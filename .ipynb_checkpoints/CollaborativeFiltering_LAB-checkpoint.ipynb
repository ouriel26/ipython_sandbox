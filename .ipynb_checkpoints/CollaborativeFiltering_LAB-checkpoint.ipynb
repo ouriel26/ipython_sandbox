{
 "cells": [
  {
   "cell_type": "code",
   "execution_count": 2,
   "metadata": {
    "collapsed": false
   },
   "outputs": [
    {
     "data": {
      "text/plain": [
       "'1.5.0'"
      ]
     },
     "execution_count": 2,
     "metadata": {},
     "output_type": "execute_result"
    }
   ],
   "source": [
    "import matplotlib\n",
    "matplotlib.__version__\n"
   ]
  },
  {
   "cell_type": "code",
   "execution_count": 1,
   "metadata": {
    "collapsed": false
   },
   "outputs": [
    {
     "data": {
      "image/png": "[encoded data removed]",
      "text/plain": [
       "<matplotlib.figure.Figure at 0x4578650>"
      ]
     },
     "metadata": {},
     "output_type": "display_data"
    }
   ],
   "source": [
    "import matplotlib\n",
    "import numpy as np\n",
    "import matplotlib.pyplot as plt\n",
    "%matplotlib inline \n",
    "x = np.linspace(0, 3*np.pi, 500)\n",
    "plt.plot(x, np.sin(x**2))\n",
    "plt.title('A simple chirp')\n",
    "plt.show()"
   ]
  },
  {
   "cell_type": "code",
   "execution_count": 3,
   "metadata": {
    "collapsed": false
   },
   "outputs": [],
   "source": [
    "from pyspark import SparkContext \n",
    "sc.stop()\n",
    "sc = SparkContext()"
   ]
  },
  {
   "cell_type": "code",
   "execution_count": 3,
   "metadata": {
    "collapsed": false
   },
   "outputs": [],
   "source": [
    "numPartitions = 3\n",
    "baseDir = os.path.join('hdfs://ns372208.ip-91-121-199.eu/extract')\n",
    "TwoMonthFilename = os.path.join(baseDir, 'extract08-08_10-08.tsv')\n",
    "\n",
    "rawRatings = sc.textFile(TwoMonthFilename).repartition(numPartitions)"
   ]
  },
  {
   "cell_type": "code",
   "execution_count": 2,
   "metadata": {
    "collapsed": false
   },
   "outputs": [],
   "source": [
    "numPartitions = 3\n",
    "baseDir = os.path.join('hdfs://ns372208.ip-91-121-199.eu/extract')\n",
    "TwoMonthFilename = os.path.join(baseDir, 'extract08-26_09-16.tsv')\n",
    "\n",
    "rawRatings = sc.textFile(TwoMonthFilename).repartition(numPartitions)"
   ]
  },
  {
   "cell_type": "code",
   "execution_count": 4,
   "metadata": {
    "collapsed": false
   },
   "outputs": [
    {
     "data": {
      "text/plain": [
       "[u'5613c0180cf2d9af0cc18cdd\\t5613c0180cf2d9af0cc18cdc\\tTue Oct 06 2015 14:52:12 GMT+0200 (CEST)\\t2501\\t10\\taccess offer page\\tSMARTPHONE NOKIA LUMIA 635 NOIR',\n",
       " u'5614dd2d0cf2947d818c8692\\t5614dd2d0cf2947d818c8691\\tWed Oct 07 2015 10:51:57 GMT+0200 (CEST)\\t108823\\t10\\taccess offer page\\tSMARTPHONE SAMSUNG Galaxy Pocket 2 noir',\n",
       " u'5614dd2d0cf2947d818c8692\\t5614dd2d0cf2947d818c8691\\tWed Oct 07 2015 10:55:37 GMT+0200 (CEST)\\t15793\\t10\\taccess offer page\\tSMARTPHONE SAMSUNG Galaxy Pocket 2 noir',\n",
       " u'5611af150cf202afa32950af\\t5611af150cf202afa32950ae\\tMon Oct 05 2015 00:58:29 GMT+0200 (CEST)\\t0\\t10\\taccess offer page\\tCable Usb / Micro Usb 2.0 EXEL M11-6',\n",
       " u'5616c9cb0cf2449610ab6ede\\t5616c9cb0cf2449610ab6edd\\tThu Oct 08 2015 21:53:47 GMT+0200 (CEST)\\t53289\\t10\\taccess offer page\\tSMARTPHONE SAMSUNG Galaxy Pocket 2 noir']"
      ]
     },
     "execution_count": 4,
     "metadata": {},
     "output_type": "execute_result"
    }
   ],
   "source": [
    "\n",
    "rawRatings.take(5)"
   ]
  },
  {
   "cell_type": "code",
   "execution_count": 5,
   "metadata": {
    "collapsed": true
   },
   "outputs": [],
   "source": [
    "logs = rawRatings.map(lambda line: line.split('\\t')).cache()"
   ]
  },
  {
   "cell_type": "code",
   "execution_count": 6,
   "metadata": {
    "collapsed": false
   },
   "outputs": [
    {
     "data": {
      "text/plain": [
       "[[u'55efd8690cf2bf3f9affb189',\n",
       "  u'55efd8690cf2bf3f9affb188',\n",
       "  u'Wed Sep 09 2015 08:57:51 GMT+0200 (CEST)',\n",
       "  u'11369',\n",
       "  u'10',\n",
       "  u'access offer page',\n",
       "  u'SMARTPHONE NOKIA LUMIA 635 NOIR'],\n",
       " [u'55efd8630cf2ccb32c72395e',\n",
       "  u'55efd8630cf2ccb32c72395d',\n",
       "  u'Wed Sep 09 2015 08:57:39 GMT+0200 (CEST)',\n",
       "  u'0',\n",
       "  u'10',\n",
       "  u'access offer page',\n",
       "  u'T\\xc9L\\xc9VISEUR LED INCURV\\xc9 48\" (pouces) SAMSUNG UE48J6300'],\n",
       " [u'5605159c0cf229cd083a9a15',\n",
       "  u'5605159c0cf229cd083a9a14',\n",
       "  u'Fri Sep 25 2015 11:36:28 GMT+0200 (CEST)',\n",
       "  u'11815',\n",
       "  u'10',\n",
       "  u'access offer page',\n",
       "  u'Ordinateur Portable 11,6\" (Pouces) et Smartphone ACER ES1-131 + Liquid M220']]"
      ]
     },
     "execution_count": 6,
     "metadata": {},
     "output_type": "execute_result"
    }
   ],
   "source": [
    "logs.take(3)"
   ]
  },
  {
   "cell_type": "code",
   "execution_count": null,
   "metadata": {
    "collapsed": true
   },
   "outputs": [],
   "source": [
    "###### BROUILLON PYTHON ##########################################\n",
    "textFile.filter(line => line.contains(\"Spark\")).count() \n"
   ]
  },
  {
   "cell_type": "code",
   "execution_count": 9,
   "metadata": {
    "collapsed": false
   },
   "outputs": [
    {
     "name": "stdout",
     "output_type": "stream",
     "text": [
      "[u'SMARTPHONE', u'Cartouche ', u'\\xc9CRAN 24\" ', u'3\\u0414 \\u041b\\u0415\\u0414 \\u0422\\u0412 ', u'Home Cinem', u'Micro Chai', u'HP Slimlin', u'iPad Air 9', u'\\xc9TUI CLAVI', u'BARRE SON ', u'iPhone 6 P', u'Support Un', u'ACCESSOIRE', u'\\xc9CRAN PC 1', u'\\xc9COUTEUR /', u'OBJECTIF S', u'MONTRE CON', u'Cable Tv E', u'Oreillette', u'Sac \\xc0 Dos ', u'TNT decode', u'KARAOK\\xc9 PO', u'MULTIFUNCT', u'CL\\xc9 USB TR', u\"Capteur D'\", u'TV LED 22 ', u'NIKON D320', u'TV LED 42 ', u'Laptop 11.', u'TABLETTE T', u'HOME CIN\\xc9M', u'Cl\\xe9 Usb EM', u\"KIT D'ACCE\", u'PACK JEUX ', u'ETUI DE PR', u'R\\xe9p\\xe9teur U', u'Cable Hdmi', u'Stylet TRU', u'GPS TOM TO', u'\\xc9tui de pr', u'tablette t', u'Cl\\xe9 Usb HD', u'T\\xe9l\\xe9phone ', u'CLAVIER GA', u'CAM\\xc9RA SPO', u'LED TV 49 ', u'Laptop 17.', u'CLAVIER LO', u'RADIO R\\xc9VE', u'PC TOUT EN', u'TRAQUEUR D', u'BRACELET C', u'CARTE MEMO', u'GPS MAPPY ', u'Home Cin\\xe9m', u'Cardiofr\\xe9q', u'H\\xedbrido 2 ', u'Cl\\xe9 Usb VE', u'PACK SACOC', u'PACK PROTE', u'iPhone 6S ', u'AMPOULE LE', u'LED TV 48 ', u'Lecteur DV', u'Core Smart', u'Sir\\xe8ne Ext', u'SOURIS SAN', u'\\u0641\\u0627\\u0626\\u0642\\u0629 HD L', u'\\xc9TUI DE PR', u'CL\\xc9 USB GO', u'Casque MIC', u'Galaxy S6 ', u'PACK DUO N', u'Objectif S', u'Drone PARR', u'Sacoche 17', u'CHARGEUR \\xc0', u'CLAVIER FI', u'ANTENNE ET', u'BRIDGE DIG', u'PRECOMMAND', u'CAM\\xc9SCOPE ', u'LED TV 43 ', u'TR\\xc9PIED PH', u'CH\\xc2INE HIF', u'\\u0643\\u0645\\u0628\\u064a\\u0648\\u062a\\u0631 \\u0645\\u062d', u'MICRO-CHAI', u'OBJECTIF T', u'\\xc9CRAN TFT ', u'Clavier Po', u'4 Galaxy T', u'iPhone 4S ', u'Pack Trio ', u'Touchpad 7', u'Capteur Pl', u'Mini Adapt', u'COMPACT NU', u'Sacoche Ap', u'SAC BANDOU', u'iPhone 4 r', u'Lecteur Gr', u'TV LED 48 ', u'Disque Dur', u'KIT MAIN L', u'Laptop 15.', u'PC COMPAQ ', u'PC HP PAV ', u'Compact Nu', u'Pointeur L', u'PC 2 EN 1 ', u'\\xc9CRAN PROL', u'SACCOCHE P', u'\\u041d\\u043e\\u0443\\u0442\\u0431\\u0443\\u043a 11', u'Laptop de ', u'PRINTER HP', u'IPhone 5C ', u'6 di Apple', u'\\u0645\\u0646\\u062d\\u0646\\u064a LED ', u'Micro Casq', u'iPod touch', u'Ecran Tft ', u'CD-R Vierg', u'PACK 3 JEU', u'Cable Usb ', u'D\\xc9CODEUR T', u'Lot Dencei', u'ENCEINTES ', u'SOURIS LOG', u'PAPIER PHO', u'Etui Photo', u'C\\xe2ble Usb ', u'TALKIE WAL', u'iPad avec ', u'ENCRE EPSO', u\"Cam\\xe9ra D'I\", u'Meuble Hom', u'Cl\\xe9 Usb SA', u'Ordinateur', u'Smartphone', u'Cl\\xe9 USB GO', u'Radio R\\xe9ve', u'\\xc9tui Unive', u'Dotknij Pa', u'TALKIES-WA', u'NUM\\xc9RIQUE ', u'\\xc9tui Galax', u'Etui de pr', u'R\\xc9P\\xc9TEUR U', u'Stylet MIC', u'WEBCAM LOG', u'CAMESCOPE ', u'Ipad Air 2', u'LED TV 3D ', u'Mini Chain', u'TELEVISION', u'\\xc9tui De Pr', u'Enceinte B', u'SACOCHE PH', u'Galaxy Tab', u'Enceinte S', u'd\\xe9codeur T', u'Enceinte P', u'CASQUE HI-', u'MICRO-CASQ', u'GARMIN GPS', u'Radio Reve', u'Bracelet M', u'\\u0421\\u043c\\u0430\\u0440\\u0442\\u0444\\u043e\\u043d S', u'\\u7b14\\u8bb0\\u672c\\u7535\\u811117.3\\u201c', u'iPhone 6 A', u'CLAVIER BL', u'\\u0418\\u0437\\u043e\\u0433\\u043d\\u0443\\u0442\\u044b\\u0439 ', u'CPL DEVOLO', u'Tensiom\\xe8tr', u'GPS GARMIN', u'Clavier LO', u'WIRELESS S', u'Montre/Bal', u'R\\xc9FLEX NUM', u'iPad Mini ', u'Cam\\xe9ra Ip ', u'Jumelles N', u'Clavier Sa', u'TOURNE DIS', u'CHA\\xceNE-HIF', u'Balance Co', u'Tablettte ', u'CASQUE SEN', u'\\u0422\\u044a\\u0447\\u043f\\u0430\\u0434 10 ', u'CAMERA SPO', u'Casque Gam', u'Appareil P', u'Clavier RA', u'Souris Gam', u'Touch Pad ', u'iPhone 5S ', u'Capteur Ca', u'Tourne Dis', u'Casque RAZ', u'Apple iPho', u'Papier Pho', u'KIT DE SON', u'Etui Pour ', u'Combi T\\xe9l\\xe9', u'T\\xe9l\\xe9comman', u'Camera Spo', u'PACK 5 DVD', u'iPod class', u'VUELTAS du', u'BRIDGE NUM', u'R\\xe9cepteur ', u'TABLETTE 1', u'Enceintes ', u'Toque (pul', u'DESIGNER M', u'Casque San', u'T\\xc9L\\xc9VISEUR', u'Sacoche Pc', u'CLAVIER SA', u'BALADEUR L', u'\\xc9cran Wled', u'Lecteur En', u'Cable Rj-4', u'SUPPORT VE', u'Pack 3 Pr\\xea', u'Televiseur', u'Pack Gamin', u'COMBI LECT', u'ENSEMBLE C', u'TCL LED TV', u'D\\xe9tecteur ', u'Galaxy Not', u'Cable Jack', u'WEBCAM HER', u'Montre Gps', u'Coque Gala', u'Lot D Ence', u'CASQUE GAM', u'Sir\\xe8ne Int', u'Webcam LOG', u'SACOCHE TA', u'Sacoche 15', u'Baladeur M', u'32GB SAMSU', u'Clavier Et', u'Dvd+Rw Vie', u'HOUSSE R\\xc9F', u'SAC \\xc0 DOS ', u'JUMELLES N', u'RESIDENTIA', u'Odinateur ', u'BATTERIE D', u'BLUETOOTH ', u'Micro-Casq', u'PC 2 en 1 ', u't\\xe9l\\xe9phone ', u'STYLET TAB', u'Tr\\xe9pied Ph', u'CASQUE SAN', u'Kit 2 Adap', u'\\xc9TUI COMPA', u'Souris San', u'Pc Portabl', u'LED TV 42 ', u'ENCEINTE B', u'CL\\xc9 USB MA', u'R\\xe9flex Num', u'Pack Duo T', u'Reflex Num', u'Sac Bandou', u'Kit Adapta', u'CL\\xc9 USB PN', u'Cl\\xe9 Usb PL', u'SYST\\xc8ME DE', u'iPad 2 9,7', u'SUPPORT MU', u'PC ASUS M3', u'Touch Tabl', u'\\u041d\\u043e\\u0443\\u0442\\u0431\\u0443\\u043a 15', u'FOURRE TOU', u'Sacoche or', u'Housse R\\xe9f', u'Support Ve', u'HOUSSE MAC', u\"CAM\\xc9RA D'I\", u'Pc HP 23-G', u'Barre De S', u'ENCRE cano', u'\\u041f\\u041a 2 \\u0432 1 \\u0433', u'Tapis De S', u'Lecteur Bl', u'Batterie d', u'DISQUE DUR', u'Samsung Ga', u'LED TV 22 ', u'MANETTE XB', u'Housse tab', u'iPod shuff', u'HYBRIDE NU', u'MULTI-FUNC', u'PACK CPL N', u'MEUBLE HOM', u'Batterie E', u'CLAVIER PO', u'Pc Tout En', u'T\\xc9L\\xc9PHONE ', u'Radio Cd M', u'Cl\\xe9 USB 2.', u'PASSERELLE', u'Pack Casqu', u'SACOCHE PC', u'PC HP Slim', u'Fixed Wire', u'ENCEINTE S', u'RADIO CD M', u'Tablette T', u'Telephone ', u'TABLETTE G', u'Bracelet C', u'PC Hybride', u'PERCHE SEL', u'Cable Fibr', u'DICTAPHONE', u'D\\xe9codeur T', u'SOURIS + T', u'MINICHAINE', u'CASQUE AUD', u'Cordless P', u'Dvd VERBAT', u'Pr\\xeat A Pho', u'Touch-Tabl', u'SOURIS GAM', u'PACK ETUI ', u'Hub Usb 2.', u'WIRELESS H', u'Usb SANDIS', u'Passerelle', u'SOURIS OPT', u'Ipod touch', u'Bridge Num', u'Camescope ', u'Capteur Co', u'IMPRIMANTE', u'Tour Bluet', u'R\\xe9p\\xe9teur W', u'Station M\\xe9', u'ECRAN TFT ', u'ENCRE CANO', u'\\xc9COUTEURS ', u'TV LED 32 ', u'Portable P', u'Moniteur A', u'Pack Cpl R', u'Micro-Chai', u'iPhone 5C ', u'\\xc9TUI TABLE', u'LECTEUR CD', u'BALADEUR M', u'Montre Con', u'PC HP 22-3', u'CL\\xc9 USB Tr', u'TABLETTE P', u'iPhone 6s ', u'SAC PHOTO ', u'CHA\\xceNE HIF', u'Pack NETGE', u\"STATION D'\", u'COMPACT \\xc0 ', u'Kit Alarme', u'Imprimante', u'CL\\xc9 USB VE', u'iPod nano ', u'iPad mini ', u'Combin\\xe9 T\\xe9', u'Montre Spo', u'offerLabel', u'\\xc9cran Tft ', u'Adaptateur', u'Clavier MI', u'Support De', u'TV LED 3D ', u'Multifunct', u'Port\\xe1til 1', u'REFLEX NUM', u'LED-\\u0442\\u0435\\u043b\\u0435\\u0432\\u0456', u'Lecteur Dv', u'Carte M\\xe9mo', u'LED TV 40 ', u'Micro-Cha\\xee', u'UltraHD 4K', u'Accessoire', u'PACK HOME ', u'Multimedia', u'PACK 2 CPL', u'Pack Ampli', u'Souris fil', u'LED TV 32 ', u'Lot Clavie', u'RADIO PORT', u'REFLEX NIK', u'TV LED SON', u'BARRE DE S', u'PACK TRIO ', u\"TRACKER D'\", u'IPhone 5S ', u'Support Am', u'T\\xe9l\\xe9viseur', u'SACOCHE WE', u'TV LED 40 ', u'Cover SAMS', u'LOT CLAVIE', u'PC LENOVO ', u'CLAVIER No', u\"Lot D'Ence\", u'\\xc9CRAN ProL', u'Alimentati', u'STATION M\\xc9', u'TELEVISEUR', u'Tourne-Dis', u'Pack Duo N', u'CL\\xc9S USB P', u'LECTEUR DV', u'CL\\xc9 USB 3.', u'Souris san', u'MICRO-CHA\\xce', u'PC PORTABL', u'3D LED TV ', u\"LOT D'ENCE\", u'3D TV LED ', u'\\xc9couteurs ', u'COMBIN\\xc9 T\\xc9', u'Casque Tv ', u'Ultra HD L', u'Casque Aud', u'MULTIMEDIA', u'CAM\\xc9RA WIF', u'COMBINED L', u'ENCRE HP 3', u'CL\\xc9 USB SA', u'ANTENNE TV', u'Enceinte T', u'HEADPHONES', u'LED-\\u0442\\u0435\\u043b\\u0435\\u0432\\u0438', u'T\\xe9lviseur ', u'Pack CPL N', u'Protection', u'HOUSSE DIS', u'TOUR MULTI', u'Sacoche Ta', u'R\\xc9CEPTEUR ', u'R\\xc9P\\xc9TEUR W', u\"PACK D'OBJ\", u'TOM TOM GP', u'TOUCH PAD ', u'Souris RAZ', u'Detecteur ', u'Souris LOG', u'CURVED TV ', u'CARTE M\\xc9MO', u'Clavier Ip', u'Tablette t', u'Cl\\xe9 Usb PN', u'MOBILE NU ', u'Casque LOG', u'\\xc9tuis Gala', u'TNT DT84 H', u'Casque Blu', u'SOURIS TRU', u'Housse De ']\n",
      "[u'access offer page', u'remove from cart', u'pay command', u'userActionLabel', u'add to cart']\n"
     ]
    }
   ],
   "source": [
    "categoryLabelList = (logs\n",
    "                  .map(lambda (a,b,c,d,e,f,g) : g[:10])\n",
    "                  .distinct()\n",
    "                  .collect()\n",
    "                  )\n",
    "print categoryLabelList\n",
    "\n",
    "actionTypeList = (logs\n",
    "                  .map(lambda (a,b,c,d,e,f,g) : f)\n",
    "                  .distinct()\n",
    "                  .collect()\n",
    "                  )\n",
    "print actionTypeList"
   ]
  },
  {
   "cell_type": "code",
   "execution_count": 15,
   "metadata": {
    "collapsed": false
   },
   "outputs": [
    {
     "name": "stdout",
     "output_type": "stream",
     "text": [
      "[[u'55e8794d0cf2984be55ee596', u'55e8794d0cf2984be55ee595', u'Thu Sep 03 2015 18:47:20 GMT+0200 (CEST)', u'0', u'3', u'add to cart', u'Ordinateur Portable 15,6\" (Pouces) ACER ASPIRE E5-531-C5A5'], [u'55efd8300cf2bf3f9affb13d', u'55efd8300cf2bf3f9affb13c', u'Wed Sep 09 2015 08:57:45 GMT+0200 (CEST)', u'0', u'3', u'add to cart', u'T\\xc9L\\xc9VISEUR LED 39\" (pouces) TUCSON TL39505DLED15'], [u'55eda90c0cf26fa8c8c3190b', u'55eda90c0cf26fa8c8c3190a', u'Mon Sep 07 2015 17:12:42 GMT+0200 (CEST)', u'0', u'3', u'add to cart', u'LECTEUR DVD + DVD INVICTUS TAKARA KDV 103 WPKI']]\n",
      "[[u'55efd8690cf2bf3f9affb189', u'55efd8690cf2bf3f9affb188', u'Wed Sep 09 2015 08:57:51 GMT+0200 (CEST)', u'11369', u'10', u'access offer page', u'SMARTPHONE NOKIA LUMIA 635 NOIR'], [u'55efd8630cf2ccb32c72395e', u'55efd8630cf2ccb32c72395d', u'Wed Sep 09 2015 08:57:39 GMT+0200 (CEST)', u'0', u'10', u'access offer page', u'T\\xc9L\\xc9VISEUR LED INCURV\\xc9 48\" (pouces) SAMSUNG UE48J6300'], [u'5605159c0cf229cd083a9a15', u'5605159c0cf229cd083a9a14', u'Fri Sep 25 2015 11:36:28 GMT+0200 (CEST)', u'11815', u'10', u'access offer page', u'Ordinateur Portable 11,6\" (Pouces) et Smartphone ACER ES1-131 + Liquid M220']]\n",
      "[[u'userId', u'sessionId', u'minEventDateTime', u'duration', u'userActionId', u'userActionLabel', u'offerLabel']]\n"
     ]
    }
   ],
   "source": [
    "cartLogs = (logs \n",
    "            .filter(lambda x : x[5] in ('remove from cart','add to cart'))\n",
    "            .cache()\n",
    "           )\n",
    "accessOfferLogs = (logs \n",
    "            .filter(lambda x : x[5] in ('access offer page'))\n",
    "            .cache()\n",
    "           )\n",
    "oddLogs = (logs \n",
    "            .filter(lambda x : x[5] in ('userActionLabel'))\n",
    "            .cache()\n",
    "           )\n",
    "\n",
    "print cartLogs.take(3)\n",
    "print accessOfferLogs.take(3)\n",
    "print oddLogs.take(3)"
   ]
  },
  {
   "cell_type": "code",
   "execution_count": null,
   "metadata": {
    "collapsed": true
   },
   "outputs": [],
   "source": []
  },
  {
   "cell_type": "code",
   "execution_count": 9,
   "metadata": {
    "collapsed": false
   },
   "outputs": [
    {
     "data": {
      "text/plain": [
       "PythonRDD[12] at RDD at PythonRDD.scala:43"
      ]
     },
     "execution_count": 9,
     "metadata": {},
     "output_type": "execute_result"
    }
   ],
   "source": [
    "userAgregLogs.unpersist()"
   ]
  },
  {
   "cell_type": "code",
   "execution_count": 20,
   "metadata": {
    "collapsed": false
   },
   "outputs": [],
   "source": [
    "def returnMeANumber(string):\n",
    "    if string.isdigit():\n",
    "        return int(string)\n",
    "    else:\n",
    "        return 0\n",
    "    \n",
    "def sumDurationAndCountForTuples(tuple1,tuple2):\n",
    "    \"\"\" Calculate average rating\n",
    "    Args:\n",
    "        IDandRatingsTuple: a single tuple of (MovieID, (Rating1, Rating2, Rating3, ...))\n",
    "    Returns:\n",
    "        tuple: a tuple of (MovieID, (number of ratings, averageRating))\n",
    "    \"\"\"\n",
    "    return (int(tuple1[0])+int(tuple2[0]),tuple1[1]+tuple2[1] )"
   ]
  },
  {
   "cell_type": "code",
   "execution_count": 21,
   "metadata": {
    "collapsed": false
   },
   "outputs": [],
   "source": [
    "userSmartphoneAgregLogs = (logs\n",
    "                         .filter(lambda (k,a,b,c,d,e,f) : d == '10')\n",
    "                         .map(lambda (k,a,b,c,d,e,f):((k,e,f),(returnMeANumber(c),1)))\n",
    "                         .reduceByKey(sumDurationAndCountForTuples)\n",
    "                         .cache()\n",
    "                         )"
   ]
  },
  {
   "cell_type": "code",
   "execution_count": 17,
   "metadata": {
    "collapsed": false
   },
   "outputs": [
    {
     "name": "stdout",
     "output_type": "stream",
     "text": [
      "nombre d'actions de type ' add to cart' : 110159\n",
      "nombre d'actions de type ' remove from cart' : 13986\n"
     ]
    },
    {
     "data": {
      "text/plain": [
       "[[u'55e8794d0cf2984be55ee596',\n",
       "  u'55e8794d0cf2984be55ee595',\n",
       "  u'Thu Sep 03 2015 18:47:20 GMT+0200 (CEST)',\n",
       "  u'0',\n",
       "  u'3',\n",
       "  u'add to cart',\n",
       "  u'Ordinateur Portable 15,6\" (Pouces) ACER ASPIRE E5-531-C5A5'],\n",
       " [u'55efd8300cf2bf3f9affb13d',\n",
       "  u'55efd8300cf2bf3f9affb13c',\n",
       "  u'Wed Sep 09 2015 08:57:45 GMT+0200 (CEST)',\n",
       "  u'0',\n",
       "  u'3',\n",
       "  u'add to cart',\n",
       "  u'T\\xc9L\\xc9VISEUR LED 39\" (pouces) TUCSON TL39505DLED15'],\n",
       " [u'55eda90c0cf26fa8c8c3190b',\n",
       "  u'55eda90c0cf26fa8c8c3190a',\n",
       "  u'Mon Sep 07 2015 17:12:42 GMT+0200 (CEST)',\n",
       "  u'0',\n",
       "  u'3',\n",
       "  u'add to cart',\n",
       "  u'LECTEUR DVD + DVD INVICTUS TAKARA KDV 103 WPKI'],\n",
       " [u'55fd19180cf284360867357d',\n",
       "  u'55fd19180cf284360867357c',\n",
       "  u'Sat Sep 19 2015 10:14:25 GMT+0200 (CEST)',\n",
       "  u'0',\n",
       "  u'3',\n",
       "  u'add to cart',\n",
       "  u'DISQUE DUR TOSHIBA CANVIO PLUS 500 Go'],\n",
       " [u'55fd19180cf2f3ddc6fb6719',\n",
       "  u'55fd19180cf2f3ddc6fb6718',\n",
       "  u'Sat Sep 19 2015 10:15:10 GMT+0200 (CEST)',\n",
       "  u'0',\n",
       "  u'3',\n",
       "  u'add to cart',\n",
       "  u'Lecteur Dvd PHILIPS DVP2850']]"
      ]
     },
     "execution_count": 17,
     "metadata": {},
     "output_type": "execute_result"
    }
   ],
   "source": [
    "cAddToCart = cartLogs.filter(lambda x : x[5] == 'add to cart').count()\n",
    "cRemoveFromCart = cartLogs.filter(lambda x : x[5] == 'remove from cart').count()\n",
    "print \"nombre d\\'actions de type \\' add to cart\\' : %d\" %(cAddToCart) \n",
    "print \"nombre d\\'actions de type \\' remove from cart\\' : %d\" %(cRemoveFromCart)\n",
    "cartLogs.take(5)"
   ]
  },
  {
   "cell_type": "markdown",
   "metadata": {},
   "source": [
    "### Use cases ###\n",
    "* #### 'access offer page' / duration : 0  ===> Pas d'action spécifiques donc interet très faible ####\n",
    "* #### 'add to cart' / duration = 0 toujours ===> Interet fort ####\n"
   ]
  },
  {
   "cell_type": "code",
   "execution_count": 26,
   "metadata": {
    "collapsed": false
   },
   "outputs": [
    {
     "name": "stdout",
     "output_type": "stream",
     "text": [
      "Sat Sep 19 2015 10:15:10\n",
      "True\n"
     ]
    }
   ],
   "source": [
    "############ TIME & DATE Labo ##########################################\n",
    "import time\n",
    "x = 'Sat Sep 19 2015 10:15:10 GMT+0200 (CEST)'\n",
    "y = 'Sat Sep 19 2015 10:15:09 GMT+0200 (CEST)'\n",
    "print x[:-16]\n",
    "print time.strptime(x[:-16],\"%a %b %d %Y %H:%M:%S\") > time.strptime(y[:-16],\"%a %b %d %Y %H:%M:%S\")"
   ]
  },
  {
   "cell_type": "code",
   "execution_count": 39,
   "metadata": {
    "collapsed": true
   },
   "outputs": [],
   "source": [
    "import time\n",
    "def agregOneProductCartActions(x,y):\n",
    "    print x\n",
    "    xTimeString = x[0]\n",
    "    yTimeString = y[0]\n",
    "    xTime = time.strptime(xTimeString[:-16], \"%a %b %d %Y %H:%M:%S\")\n",
    "    yTime = time.strptime(yTimeString[:-16], \"%a %b %d %Y %H:%M:%S\")\n",
    "    returnTime = xTimeString if xTime > yTime else yTimeString\n",
    "    return (returnTime, 0, x[2]+y[2])\n",
    "    "
   ]
  },
  {
   "cell_type": "code",
   "execution_count": 40,
   "metadata": {
    "collapsed": false
   },
   "outputs": [],
   "source": [
    "aggregCartLogs = (cartLogs\n",
    "                  .map(lambda (a,b,c,d,e,f,g) : ((a,g),(c,d,1)) if f == 'add to cart' else ((a,g),(c,d,-1)))\n",
    "                  .reduceByKey(agregOneProductCartActions)\n",
    "                  .cache()\n",
    "                  )"
   ]
  },
  {
   "cell_type": "code",
   "execution_count": 41,
   "metadata": {
    "collapsed": false
   },
   "outputs": [
    {
     "data": {
      "text/plain": [
       "[((u'5600f72a0cf2f3ddc6fea651', u'SMARTPHONE LOGICOM E350 Bleu'),\n",
       "  (u'Tue Sep 22 2015 08:38:18 GMT+0200 (CEST)', u'0', 1)),\n",
       " ((u'55e6066e0cf2bf3f9af69d0c',\n",
       "   u'PC Hybride 2 en 1 10\" (POUCES) MPMAN MPWIN110CL 16 Go Noire'),\n",
       "  (u'Tue Sep 01 2015 22:19:13 GMT+0200 (CEST)', u'0', 1)),\n",
       " ((u'55ec0b670cf2355ff2ca7e6d', u'MICRO-CHA\\xceNE MP3 PHILIPS BTM2335'),\n",
       "  (u'Sun Sep 06 2015 11:46:50 GMT+0200 (CEST)', 0, 0)),\n",
       " ((u'55df0bbc0cf2da6e3245340b',\n",
       "   u'Tablette tactile 7\" (pouces) MPMAN MP 7 QUAD/4GB BLC'),\n",
       "  (u'Thu Aug 27 2015 15:15:06 GMT+0200 (CEST)', u'0', 1)),\n",
       " ((u'55c7ad1d0cf25580fdfbfc1e', u'HOME CIN\\xc9MA 5.1 BLU RAY 3D LG BH6240S'),\n",
       "  (u'Sun Aug 09 2015 21:48:41 GMT+0200 (CEST)', u'0', 1))]"
      ]
     },
     "execution_count": 41,
     "metadata": {},
     "output_type": "execute_result"
    }
   ],
   "source": [
    "aggregCartLogs.take(5)"
   ]
  },
  {
   "cell_type": "code",
   "execution_count": 6,
   "metadata": {
    "collapsed": false
   },
   "outputs": [
    {
     "name": "stdout",
     "output_type": "stream",
     "text": [
      "686911\n"
     ]
    }
   ],
   "source": [
    "print userAgregLogs.count()"
   ]
  },
  {
   "cell_type": "code",
   "execution_count": 4,
   "metadata": {
    "collapsed": false
   },
   "outputs": [
    {
     "name": "stdout",
     "output_type": "stream",
     "text": [
      "There are 487650 ratings and 3883 movies in the datasets\n",
      "Ratings: [(1, 1193, 5.0), (1, 914, 3.0), (1, 2355, 5.0)]\n",
      "Movies: [(1, u'Toy Story (1995)'), (2, u'Jumanji (1995)'), (3, u'Grumpier Old Men (1995)')]\n"
     ]
    }
   ],
   "source": [
    "\n",
    "def get_ratings_tuple(logs):\n",
    "    \"\"\" Parse a line in the ratings dataset\n",
    "    Args:\n",
    "        entry (str): a line in the ratings dataset in the form of UserID::MovieID::Rating::Timestamp\n",
    "    Returns:\n",
    "        tuple: (UserID, MovieID, Rating)\n",
    "    \"\"\"\n",
    "    items = entry.split('::')\n",
    "    return int(items[0]), int(items[1]), float(items[2])\n",
    "\n",
    "\n",
    "def get_movie_tuple(entry):\n",
    "    \"\"\" Parse a line in the movies dataset\n",
    "    Args:\n",
    "        entry (str): a line in the movies dataset in the form of MovieID::Title::Genres\n",
    "    Returns:\n",
    "        tuple: (MovieID, Title)\n",
    "    \"\"\"\n",
    "    items = entry.split('::')\n",
    "    return int(items[0]), items[1]\n",
    "\n",
    "\n",
    "ratingsRDD = rawRatings.map(get_ratings_tuple).cache()\n",
    "moviesRDD = rawMovies.map(get_movie_tuple).cache()\n",
    "\n",
    "ratingsCount = ratingsRDD.count()\n",
    "moviesCount = moviesRDD.count()\n",
    "\n",
    "print 'There are %s ratings and %s movies in the datasets' % (ratingsCount, moviesCount)\n",
    "print 'Ratings: %s' % ratingsRDD.take(3)\n",
    "print 'Movies: %s' % moviesRDD.take(3)\n",
    "\n",
    "assert ratingsCount == 487650\n",
    "assert moviesCount == 3883\n",
    "assert moviesRDD.filter(lambda (id, title): title == 'Toy Story (1995)').count() == 1\n",
    "assert (ratingsRDD.takeOrdered(1, key=lambda (user, movie, rating): movie)\n",
    "        == [(1, 1, 5.0)])"
   ]
  },
  {
   "cell_type": "code",
   "execution_count": 5,
   "metadata": {
    "collapsed": true
   },
   "outputs": [],
   "source": [
    "from test_helper import Test"
   ]
  },
  {
   "cell_type": "code",
   "execution_count": 6,
   "metadata": {
    "collapsed": true
   },
   "outputs": [],
   "source": [
    "assert ratingsCount == 487650\n",
    "assert moviesCount == 3883\n",
    "assert moviesRDD.filter(lambda (id, title): title == 'Toy Story (1995)').count() == 1\n",
    "assert (ratingsRDD.takeOrdered(1, key=lambda (user, movie, rating): movie)\n",
    "        == [(1, 1, 5.0)])"
   ]
  },
  {
   "cell_type": "code",
   "execution_count": 7,
   "metadata": {
    "collapsed": false
   },
   "outputs": [
    {
     "data": {
      "text/plain": [
       "[(1, 1, 5.0)]"
      ]
     },
     "execution_count": 7,
     "metadata": {},
     "output_type": "execute_result"
    }
   ],
   "source": [
    "ratingsRDD.takeOrdered(1, key=lambda (user, movie, rating): movie)"
   ]
  },
  {
   "cell_type": "code",
   "execution_count": null,
   "metadata": {
    "collapsed": true
   },
   "outputs": [],
   "source": []
  }
 ],
 "metadata": {
  "kernelspec": {
   "display_name": "Python 2",
   "language": "python",
   "name": "python2"
  },
  "language_info": {
   "codemirror_mode": {
    "name": "ipython",
    "version": 2
   },
   "file_extension": ".py",
   "mimetype": "text/x-python",
   "name": "python",
   "nbconvert_exporter": "python",
   "pygments_lexer": "ipython2",
   "version": "2.7.5"
  }
 },
 "nbformat": 4,
 "nbformat_minor": 0
}
