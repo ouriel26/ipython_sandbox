{
 "cells": [
  {
   "cell_type": "code",
   "execution_count": 2,
   "metadata": {
    "collapsed": false
   },
   "outputs": [
    {
     "data": {
      "text/plain": [
       "'1.5.0'"
      ]
     },
     "execution_count": 2,
     "metadata": {},
     "output_type": "execute_result"
    }
   ],
   "source": [
    "import matplotlib\n",
    "matplotlib.__version__\n"
   ]
  },
  {
   "cell_type": "code",
   "execution_count": 1,
   "metadata": {
    "collapsed": false
   },
   "outputs": [
    {
     "data": {
      "image/png": "[encoded data removed]",
      "text/plain": [
       "<matplotlib.figure.Figure at 0x4f1a650>"
      ]
     },
     "metadata": {},
     "output_type": "display_data"
    }
   ],
   "source": [
    "import matplotlib\n",
    "import numpy as np\n",
    "import matplotlib.pyplot as plt\n",
    "%matplotlib inline \n",
    "x = np.linspace(0, 3*np.pi, 500)\n",
    "plt.plot(x, np.sin(x**2))\n",
    "plt.title('A simple chirp')\n",
    "plt.show()"
   ]
  },
  {
   "cell_type": "code",
   "execution_count": 3,
   "metadata": {
    "collapsed": false
   },
   "outputs": [],
   "source": [
    "from pyspark import SparkContext \n",
    "sc.stop()\n",
    "sc = SparkContext()"
   ]
  },
  {
   "cell_type": "code",
   "execution_count": 2,
   "metadata": {
    "collapsed": false
   },
   "outputs": [],
   "source": [
    "numPartitions = 3\n",
    "baseDir = os.path.join('hdfs://ns372208.ip-91-121-199.eu/extract')\n",
    "TwoMonthFilename = os.path.join(baseDir, 'extract08-08_10-08.tsv')\n",
    "\n",
    "rawRatings = sc.textFile(TwoMonthFilename).repartition(numPartitions)"
   ]
  },
  {
   "cell_type": "code",
   "execution_count": 2,
   "metadata": {
    "collapsed": false
   },
   "outputs": [],
   "source": [
    "numPartitions = 3\n",
    "baseDir = os.path.join('hdfs://ns372208.ip-91-121-199.eu/extract')\n",
    "TwoMonthFilename = os.path.join(baseDir, 'extract08-26_09-16.tsv')\n",
    "\n",
    "rawRatings = sc.textFile(TwoMonthFilename).repartition(numPartitions)"
   ]
  },
  {
   "cell_type": "code",
   "execution_count": 4,
   "metadata": {
    "collapsed": false
   },
   "outputs": [
    {
     "data": {
      "text/plain": [
       "[u'5613c0180cf2d9af0cc18cdd\\t5613c0180cf2d9af0cc18cdc\\tTue Oct 06 2015 14:52:12 GMT+0200 (CEST)\\t2501\\t10\\taccess offer page\\tSMARTPHONE NOKIA LUMIA 635 NOIR',\n",
       " u'5614dd2d0cf2947d818c8692\\t5614dd2d0cf2947d818c8691\\tWed Oct 07 2015 10:51:57 GMT+0200 (CEST)\\t108823\\t10\\taccess offer page\\tSMARTPHONE SAMSUNG Galaxy Pocket 2 noir',\n",
       " u'5614dd2d0cf2947d818c8692\\t5614dd2d0cf2947d818c8691\\tWed Oct 07 2015 10:55:37 GMT+0200 (CEST)\\t15793\\t10\\taccess offer page\\tSMARTPHONE SAMSUNG Galaxy Pocket 2 noir',\n",
       " u'5611af150cf202afa32950af\\t5611af150cf202afa32950ae\\tMon Oct 05 2015 00:58:29 GMT+0200 (CEST)\\t0\\t10\\taccess offer page\\tCable Usb / Micro Usb 2.0 EXEL M11-6',\n",
       " u'5616c9cb0cf2449610ab6ede\\t5616c9cb0cf2449610ab6edd\\tThu Oct 08 2015 21:53:47 GMT+0200 (CEST)\\t53289\\t10\\taccess offer page\\tSMARTPHONE SAMSUNG Galaxy Pocket 2 noir']"
      ]
     },
     "execution_count": 4,
     "metadata": {},
     "output_type": "execute_result"
    }
   ],
   "source": [
    "\n",
    "rawRatings.take(5)"
   ]
  },
  {
   "cell_type": "code",
   "execution_count": 3,
   "metadata": {
    "collapsed": false
   },
   "outputs": [],
   "source": [
    "logs = rawRatings.map(lambda line: line.split('\\t')).cache()"
   ]
  },
  {
   "cell_type": "code",
   "execution_count": 8,
   "metadata": {
    "collapsed": false
   },
   "outputs": [
    {
     "data": {
      "text/plain": [
       "[[u'5613c0180cf2d9af0cc18cdd',\n",
       "  u'5613c0180cf2d9af0cc18cdc',\n",
       "  u'Tue Oct 06 2015 14:52:12 GMT+0200 (CEST)',\n",
       "  u'2501',\n",
       "  u'10',\n",
       "  u'access offer page',\n",
       "  u'SMARTPHONE NOKIA LUMIA 635 NOIR'],\n",
       " [u'5614dd2d0cf2947d818c8692',\n",
       "  u'5614dd2d0cf2947d818c8691',\n",
       "  u'Wed Oct 07 2015 10:51:57 GMT+0200 (CEST)',\n",
       "  u'108823',\n",
       "  u'10',\n",
       "  u'access offer page',\n",
       "  u'SMARTPHONE SAMSUNG Galaxy Pocket 2 noir'],\n",
       " [u'5614dd2d0cf2947d818c8692',\n",
       "  u'5614dd2d0cf2947d818c8691',\n",
       "  u'Wed Oct 07 2015 10:55:37 GMT+0200 (CEST)',\n",
       "  u'15793',\n",
       "  u'10',\n",
       "  u'access offer page',\n",
       "  u'SMARTPHONE SAMSUNG Galaxy Pocket 2 noir']]"
      ]
     },
     "execution_count": 8,
     "metadata": {},
     "output_type": "execute_result"
    }
   ],
   "source": [
    "logs.take(3)"
   ]
  },
  {
   "cell_type": "code",
   "execution_count": 4,
   "metadata": {
    "collapsed": false
   },
   "outputs": [
    {
     "name": "stdout",
     "output_type": "stream",
     "text": [
      "[u'access offer page', u'remove from cart', u'pay command', u'userActionLabel', u'add to cart']\n"
     ]
    }
   ],
   "source": [
    "\n",
    "\n",
    "actionTypeList = (logs\n",
    "                  .map(lambda (a,b,c,d,e,f,g) : f)\n",
    "                  .distinct()\n",
    "                  .collect()\n",
    "                  )\n",
    "print actionTypeList"
   ]
  },
  {
   "cell_type": "code",
   "execution_count": 9,
   "metadata": {
    "collapsed": false
   },
   "outputs": [
    {
     "name": "stdout",
     "output_type": "stream",
     "text": [
      "[[u'560feb540cf208ec629fde55', u'560feb540cf208ec629fde54', u'Sat Oct 03 2015 17:16:31 GMT+0200 (CEST)', u'0', u'3', u'add to cart', u'Ordinateur portable 17,3\" (pouces) TOSHIBA C70-C-1CH'], [u'5611adcc0cf2f90bd5268f3f', u'5611adcc0cf2f90bd5268f3e', u'Mon Oct 05 2015 00:57:59 GMT+0200 (CEST)', u'0', u'3', u'add to cart', u'Ordinateur Portable 15,6\" (Pouces) ASUS R511LD-XX660H'], [u'5611adcc0cf2f90bd5268f3f', u'5611adcc0cf2f90bd5268f3e', u'Mon Oct 05 2015 00:59:01 GMT+0200 (CEST)', u'0', u'3', u'add to cart', u'Ordinateur Portable 15,6\" (Pouces) ASUS R511LD-XX660H']]\n",
      "[[u'5613c0180cf2d9af0cc18cdd', u'5613c0180cf2d9af0cc18cdc', u'Tue Oct 06 2015 14:52:12 GMT+0200 (CEST)', u'2501', u'10', u'access offer page', u'SMARTPHONE NOKIA LUMIA 635 NOIR'], [u'5614dd2d0cf2947d818c8692', u'5614dd2d0cf2947d818c8691', u'Wed Oct 07 2015 10:51:57 GMT+0200 (CEST)', u'108823', u'10', u'access offer page', u'SMARTPHONE SAMSUNG Galaxy Pocket 2 noir'], [u'5614dd2d0cf2947d818c8692', u'5614dd2d0cf2947d818c8691', u'Wed Oct 07 2015 10:55:37 GMT+0200 (CEST)', u'15793', u'10', u'access offer page', u'SMARTPHONE SAMSUNG Galaxy Pocket 2 noir']]\n",
      "[[u'userId', u'sessionId', u'minEventDateTime', u'duration', u'userActionId', u'userActionLabel', u'offerLabel']]\n"
     ]
    }
   ],
   "source": [
    "cartLogs = (logs \n",
    "            .filter(lambda x : x[5] in ('remove from cart','add to cart'))\n",
    "            .cache()\n",
    "           )\n",
    "accessOfferLogs = (logs \n",
    "            .filter(lambda x : x[5] in ('access offer page'))\n",
    "            .cache()\n",
    "           )\n",
    "oddLogs = (logs \n",
    "            .filter(lambda x : x[5] in ('userActionLabel'))\n",
    "            .cache()\n",
    "           )\n",
    "\n",
    "print cartLogs.take(3)\n",
    "print accessOfferLogs.take(3)\n",
    "print oddLogs.take(3)"
   ]
  },
  {
   "cell_type": "code",
   "execution_count": null,
   "metadata": {
    "collapsed": true
   },
   "outputs": [],
   "source": [
    "cartLogs.unpersist()\n",
    "accessOfferLogs.unpersist()\n",
    "oddLogs.unpersist()"
   ]
  },
  {
   "cell_type": "code",
   "execution_count": 9,
   "metadata": {
    "collapsed": false
   },
   "outputs": [
    {
     "data": {
      "text/plain": [
       "PythonRDD[12] at RDD at PythonRDD.scala:43"
      ]
     },
     "execution_count": 9,
     "metadata": {},
     "output_type": "execute_result"
    }
   ],
   "source": [
    "userAgregLogs.unpersist()"
   ]
  },
  {
   "cell_type": "code",
   "execution_count": 10,
   "metadata": {
    "collapsed": false
   },
   "outputs": [
    {
     "name": "stdout",
     "output_type": "stream",
     "text": [
      "11815\n"
     ]
    }
   ],
   "source": [
    "def returnMeANumber(string):\n",
    "    if string.isdigit():\n",
    "        return int(string)\n",
    "    else:\n",
    "        return 0\n",
    "    \n",
    "def sumDurationAndCountForTuples(tuple1,tuple2):\n",
    "    \"\"\" Calculate average rating\n",
    "    Args:\n",
    "        IDandRatingsTuple: a single tuple of (MovieID, (Rating1, Rating2, Rating3, ...))\n",
    "    Returns:\n",
    "        tuple: a tuple of (MovieID, (number of ratings, averageRating))\n",
    "    \"\"\"\n",
    "    return (int(tuple1[0])+int(tuple2[0]),tuple1[1]+tuple2[1] )\n",
    "\n",
    "print returnMeANumber(u'11815')"
   ]
  },
  {
   "cell_type": "code",
   "execution_count": 17,
   "metadata": {
    "collapsed": false
   },
   "outputs": [
    {
     "name": "stdout",
     "output_type": "stream",
     "text": [
      "nombre d'actions de type ' add to cart' : 110159\n",
      "nombre d'actions de type ' remove from cart' : 13986\n"
     ]
    },
    {
     "data": {
      "text/plain": [
       "[[u'55e8794d0cf2984be55ee596',\n",
       "  u'55e8794d0cf2984be55ee595',\n",
       "  u'Thu Sep 03 2015 18:47:20 GMT+0200 (CEST)',\n",
       "  u'0',\n",
       "  u'3',\n",
       "  u'add to cart',\n",
       "  u'Ordinateur Portable 15,6\" (Pouces) ACER ASPIRE E5-531-C5A5'],\n",
       " [u'55efd8300cf2bf3f9affb13d',\n",
       "  u'55efd8300cf2bf3f9affb13c',\n",
       "  u'Wed Sep 09 2015 08:57:45 GMT+0200 (CEST)',\n",
       "  u'0',\n",
       "  u'3',\n",
       "  u'add to cart',\n",
       "  u'T\\xc9L\\xc9VISEUR LED 39\" (pouces) TUCSON TL39505DLED15'],\n",
       " [u'55eda90c0cf26fa8c8c3190b',\n",
       "  u'55eda90c0cf26fa8c8c3190a',\n",
       "  u'Mon Sep 07 2015 17:12:42 GMT+0200 (CEST)',\n",
       "  u'0',\n",
       "  u'3',\n",
       "  u'add to cart',\n",
       "  u'LECTEUR DVD + DVD INVICTUS TAKARA KDV 103 WPKI'],\n",
       " [u'55fd19180cf284360867357d',\n",
       "  u'55fd19180cf284360867357c',\n",
       "  u'Sat Sep 19 2015 10:14:25 GMT+0200 (CEST)',\n",
       "  u'0',\n",
       "  u'3',\n",
       "  u'add to cart',\n",
       "  u'DISQUE DUR TOSHIBA CANVIO PLUS 500 Go'],\n",
       " [u'55fd19180cf2f3ddc6fb6719',\n",
       "  u'55fd19180cf2f3ddc6fb6718',\n",
       "  u'Sat Sep 19 2015 10:15:10 GMT+0200 (CEST)',\n",
       "  u'0',\n",
       "  u'3',\n",
       "  u'add to cart',\n",
       "  u'Lecteur Dvd PHILIPS DVP2850']]"
      ]
     },
     "execution_count": 17,
     "metadata": {},
     "output_type": "execute_result"
    }
   ],
   "source": [
    "cAddToCart = cartLogs.filter(lambda x : x[5] == 'add to cart').count()\n",
    "cRemoveFromCart = cartLogs.filter(lambda x : x[5] == 'remove from cart').count()\n",
    "print \"nombre d\\'actions de type \\' add to cart\\' : %d\" %(cAddToCart) \n",
    "print \"nombre d\\'actions de type \\' remove from cart\\' : %d\" %(cRemoveFromCart)\n",
    "cartLogs.take(5)"
   ]
  },
  {
   "cell_type": "markdown",
   "metadata": {},
   "source": [
    "### Use cases ###\n",
    "* #### 'access offer page' / duration : 0  ===> Pas d'action spécifiques donc interet très faible ####\n",
    "* #### 'add to cart' / duration = 0 toujours ===> Interet fort ####\n"
   ]
  },
  {
   "cell_type": "code",
   "execution_count": 26,
   "metadata": {
    "collapsed": false
   },
   "outputs": [
    {
     "name": "stdout",
     "output_type": "stream",
     "text": [
      "Sat Sep 19 2015 10:15:10\n",
      "True\n"
     ]
    }
   ],
   "source": [
    "############ TIME & DATE Labo ##########################################\n",
    "import time\n",
    "x = 'Sat Sep 19 2015 10:15:10 GMT+0200 (CEST)'\n",
    "y = 'Sat Sep 19 2015 10:15:09 GMT+0200 (CEST)'\n",
    "print x[:-16]\n",
    "print time.strptime(x[:-16],\"%a %b %d %Y %H:%M:%S\") > time.strptime(y[:-16],\"%a %b %d %Y %H:%M:%S\")"
   ]
  },
  {
   "cell_type": "code",
   "execution_count": 11,
   "metadata": {
    "collapsed": true
   },
   "outputs": [],
   "source": [
    "import time\n",
    "def agregOneProductCartActions(x,y):\n",
    "    print x\n",
    "    xTimeString = x[0]\n",
    "    yTimeString = y[0]\n",
    "    xTime = time.strptime(xTimeString[:-16], \"%a %b %d %Y %H:%M:%S\")\n",
    "    yTime = time.strptime(yTimeString[:-16], \"%a %b %d %Y %H:%M:%S\")\n",
    "    returnTime = xTimeString if xTime > yTime else yTimeString\n",
    "    return (returnTime, 0, x[2]+y[2])\n",
    "\n",
    "def agregOneProductAccessOfferActions(x,y):\n",
    "    print x\n",
    "    xTimeString = x[0]\n",
    "    yTimeString = y[0]\n",
    "    xTime = time.strptime(xTimeString[:-16], \"%a %b %d %Y %H:%M:%S\")\n",
    "    yTime = time.strptime(yTimeString[:-16], \"%a %b %d %Y %H:%M:%S\")\n",
    "    returnTime = xTimeString if xTime > yTime else yTimeString\n",
    "    return (returnTime, x[1]+y[1])\n",
    "    "
   ]
  },
  {
   "cell_type": "code",
   "execution_count": 12,
   "metadata": {
    "collapsed": false
   },
   "outputs": [
    {
     "data": {
      "text/plain": [
       "[((u'5600f72a0cf2f3ddc6fea651', u'SMARTPHONE LOGICOM E350 Bleu'),\n",
       "  (u'Tue Sep 22 2015 08:38:18 GMT+0200 (CEST)', u'0', 1)),\n",
       " ((u'55e6066e0cf2bf3f9af69d0c',\n",
       "   u'PC Hybride 2 en 1 10\" (POUCES) MPMAN MPWIN110CL 16 Go Noire'),\n",
       "  (u'Tue Sep 01 2015 22:19:13 GMT+0200 (CEST)', u'0', 1)),\n",
       " ((u'55df0bbc0cf2da6e3245340b',\n",
       "   u'Tablette tactile 7\" (pouces) MPMAN MP 7 QUAD/4GB BLC'),\n",
       "  (u'Thu Aug 27 2015 15:15:06 GMT+0200 (CEST)', u'0', 1)),\n",
       " ((u'55c7ad1d0cf25580fdfbfc1e', u'HOME CIN\\xc9MA 5.1 BLU RAY 3D LG BH6240S'),\n",
       "  (u'Sun Aug 09 2015 21:48:41 GMT+0200 (CEST)', u'0', 1)),\n",
       " ((u'5616ce720cf2d9af0cc58102',\n",
       "   u'CL\\xc9 USB MAXELL Cl\\xe9 USB 3.0 E500 16 GO'),\n",
       "  (u'Thu Oct 08 2015 22:14:32 GMT+0200 (CEST)', u'0', 1))]"
      ]
     },
     "execution_count": 12,
     "metadata": {},
     "output_type": "execute_result"
    }
   ],
   "source": [
    "aggregCartLogs = (cartLogs\n",
    "                  .map(lambda (a,b,c,d,e,f,g) : ((a,g),(c,d,1)) if f == 'add to cart' else ((a,g),(c,d,-1)))\n",
    "                  .reduceByKey(agregOneProductCartActions)\n",
    "                  .cache()\n",
    "                  )\n",
    "aggregCartLogs.take(5)"
   ]
  },
  {
   "cell_type": "markdown",
   "metadata": {},
   "source": [
    "## Anomalies pour les actions de type \"CART\" ##\n",
    "#### logiquement, après agréggation des 'add' (+1) et 'remove' (-1), l'on ne devrait PAS avoir de valeurs négatives dans le décompte pour le couple (utilisateur, produit). ####\n",
    "##### Hypothéses : #####\n",
    "* ##### Certaines valeurs négatives peuvent être expliquées par l'absence des précédentes 'add' actions puisque loggé juste avant la begin date du fichier de logs considéré  ###### "
   ]
  },
  {
   "cell_type": "code",
   "execution_count": 14,
   "metadata": {
    "collapsed": false
   },
   "outputs": [
    {
     "name": "stdout",
     "output_type": "stream",
     "text": [
      "defaultdict(<type 'int'>, {0: 9376, 1: 67808, 2: 9025, 3: 1792, 4: 533, 5: 180, 6: 94, 7: 65, 8: 28, 9: 29, 10: 18, 11: 15, 12: 13, 13: 10, 14: 4, 15: 6, 16: 4, 17: 2, 18: 2, 19: 1, 20: 2, 21: 2, 22: 1, 23: 2, 26: 2, 29: 1, 30: 3, 37: 1, 38: 1, 40: 2, 42: 1, 48: 1, 49: 1, 60: 1, 80: 1, -25: 1, -17: 1, -15: 1, -2: 160, -10: 1, -7: 3, -6: 2, -5: 13, -4: 20, -3: 51, -1: 564})\n"
     ]
    }
   ],
   "source": [
    "\n",
    "print aggregCartLogs.map(lambda x : x[1][2]).countByValue()"
   ]
  },
  {
   "cell_type": "code",
   "execution_count": 20,
   "metadata": {
    "collapsed": false
   },
   "outputs": [
    {
     "name": "stdout",
     "output_type": "stream",
     "text": [
      "[((u'5600f72a0cf2f3ddc6fea651', u'SMARTPHONE LOGICOM E350 Bleu'), (u'Tue Sep 22 2015 08:38:18 GMT+0200 (CEST)', u'0', 1))]\n"
     ]
    }
   ],
   "source": [
    "print aggregCartLogs.take(1)"
   ]
  },
  {
   "cell_type": "code",
   "execution_count": 14,
   "metadata": {
    "collapsed": false
   },
   "outputs": [
    {
     "data": {
      "text/plain": [
       "PythonRDD[22] at RDD at PythonRDD.scala:43"
      ]
     },
     "execution_count": 14,
     "metadata": {},
     "output_type": "execute_result"
    }
   ],
   "source": [
    "ReadyCartLogs = aggregCartLogs.map(lambda ((k1,k2),(x,y,z)) : ((k1,k2),3.0) if z > 0 else ((k1,k2),0.0) ).cache()\n",
    "ReadyCartLogs.take(1)\n",
    "aggregCartLogs.unpersist()\n",
    "cartLogs.unpersist()"
   ]
  },
  {
   "cell_type": "code",
   "execution_count": null,
   "metadata": {
    "collapsed": false,
    "scrolled": true
   },
   "outputs": [
    {
     "name": "stdout",
     "output_type": "stream",
     "text": [
      "944504\n"
     ]
    },
    {
     "data": {
      "text/plain": [
       "PythonRDD[23] at RDD at PythonRDD.scala:43"
      ]
     },
     "execution_count": 15,
     "metadata": {},
     "output_type": "execute_result"
    }
   ],
   "source": [
    "print accessOfferLogs.count()\n",
    "aggregAccessOfferLogs = (accessOfferLogs\n",
    "                  .map(lambda (a,b,c,d,e,f,g) : ((a,g),(c,returnMeANumber(d))))\n",
    "                  .reduceByKey(agregOneProductAccessOfferActions)\n",
    "                  .cache()\n",
    "                  )\n",
    "aggregAccessOfferLogs.take(3)\n",
    "accessOfferLogs.unpersist()\n"
   ]
  },
  {
   "cell_type": "code",
   "execution_count": 18,
   "metadata": {
    "collapsed": false
   },
   "outputs": [
    {
     "data": {
      "text/plain": [
       "[((u'560624500cf2f90bd514c321',\n",
       "   u'Ordinateur Portable 11,6\" (Pouces) et Smartphone ACER ES1-131 + Liquid M220'),\n",
       "  (u'Sat Sep 26 2015 06:51:28 GMT+0200 (CEST)', 85632)),\n",
       " ((u'55d6fbb00cf2c92e30aa3a44', u'SMARTPHONE NOKIA Lumia 630 Noir'),\n",
       "  (u'Fri Aug 21 2015 12:21:36 GMT+0200 (CEST)', 5403)),\n",
       " ((u'55cf34230cf23991a0e29c15', u'SMARTPHONE WIKO SUNSET 2 TURQUOISE'),\n",
       "  (u'Sat Aug 15 2015 14:44:19 GMT+0200 (CEST)', 0))]"
      ]
     },
     "execution_count": 18,
     "metadata": {},
     "output_type": "execute_result"
    }
   ],
   "source": [
    "accessOfferLogs.unpersist()\n",
    "aggregAccessOfferLogs.take(3)"
   ]
  },
  {
   "cell_type": "code",
   "execution_count": 23,
   "metadata": {
    "collapsed": false
   },
   "outputs": [
    {
     "name": "stdout",
     "output_type": "stream",
     "text": [
      "17967.4090091\n",
      "43568.6626995\n"
     ]
    }
   ],
   "source": [
    "mean = aggregAccessOfferLogs.map(lambda x : int(x[1][1])).mean()\n",
    "std = aggregAccessOfferLogs.map(lambda x : int(x[1][1])).stdev()\n",
    "print mean\n",
    "print std"
   ]
  },
  {
   "cell_type": "code",
   "execution_count": 19,
   "metadata": {
    "collapsed": true
   },
   "outputs": [],
   "source": [
    "mean = 17967.4090091\n",
    "std = 43568.6626995"
   ]
  },
  {
   "cell_type": "code",
   "execution_count": 20,
   "metadata": {
    "collapsed": false
   },
   "outputs": [
    {
     "name": "stdout",
     "output_type": "stream",
     "text": [
      "18.75\n"
     ]
    }
   ],
   "source": [
    "\n",
    "def round_to(n, precision):\n",
    "    correction = 0.5 if n >= 0 else -0.5\n",
    "    return int( n/precision+correction ) * precision\n",
    "\n",
    "def round_to_05(n):\n",
    "    return round_to(n, 0.05)\n",
    "\n",
    "print round_to_05(18.75698)"
   ]
  },
  {
   "cell_type": "code",
   "execution_count": 21,
   "metadata": {
    "collapsed": false
   },
   "outputs": [
    {
     "data": {
      "text/plain": [
       "[((u'560624500cf2f90bd514c321',\n",
       "   u'Ordinateur Portable 11,6\" (Pouces) et Smartphone ACER ES1-131 + Liquid M220'),\n",
       "  1.55),\n",
       " ((u'55d6fbb00cf2c92e30aa3a44', u'SMARTPHONE NOKIA Lumia 630 Noir'),\n",
       "  -0.30000000000000004),\n",
       " ((u'55cf34230cf23991a0e29c15', u'SMARTPHONE WIKO SUNSET 2 TURQUOISE'), -0.4),\n",
       " ((u'55eff58e0cf2bf3f9affdbb4',\n",
       "   u'T\\xe9l\\xe9viseur LED 22\" (Pouces) TUCSON TL2204W274'),\n",
       "  -0.4),\n",
       " ((u'560a91350cf202afa320ef4b',\n",
       "   u'T\\xe9l\\xe9viseur LED 58\" (Pouces) SAMSUNG UE58H5200'),\n",
       "  -0.4)]"
      ]
     },
     "execution_count": 21,
     "metadata": {},
     "output_type": "execute_result"
    }
   ],
   "source": [
    "ReadyAccessOfferLogs = (aggregAccessOfferLogs\n",
    "                  .map(lambda ((k1,k2),(x,y)) : ((k1,k2), round_to_05((y-mean)/std) ))\n",
    "                  .cache()\n",
    "                  )\n",
    "ReadyAccessOfferLogs.take(5)"
   ]
  },
  {
   "cell_type": "code",
   "execution_count": 25,
   "metadata": {
    "collapsed": false
   },
   "outputs": [
    {
     "data": {
      "text/plain": [
       "PythonRDD[46] at RDD at PythonRDD.scala:43"
      ]
     },
     "execution_count": 25,
     "metadata": {},
     "output_type": "execute_result"
    }
   ],
   "source": [
    "aggregAccessOfferLogs.unpersist()"
   ]
  },
  {
   "cell_type": "code",
   "execution_count": null,
   "metadata": {
    "collapsed": false
   },
   "outputs": [],
   "source": [
    "ReadyAllLogs = (ReadyAccessOfferLogs\n",
    "                .union(ReadyCartLogs)\n",
    "                .reduceByKey(lambda x,y : x if x > y else y)\n",
    "                .map(lambda ((x,y),z): (x,y,z))\n",
    "                .cache()\n",
    "                )\n",
    "print ReadyAllLogs.take(1)"
   ]
  },
  {
   "cell_type": "code",
   "execution_count": null,
   "metadata": {
    "collapsed": true
   },
   "outputs": [],
   "source": [
    "trainingRDD, validationRDD, testRDD = ReadyAllLogs.randomSplit([6, 2, 2], seed=0L)"
   ]
  },
  {
   "cell_type": "code",
   "execution_count": null,
   "metadata": {
    "collapsed": true
   },
   "outputs": [],
   "source": [
    "# TODO: Replace <FILL IN> with appropriate code\n",
    "import math\n",
    "\n",
    "def computeError(predictedRDD, actualRDD):\n",
    "    \"\"\" Compute the root mean squared error between predicted and actual\n",
    "    Args:\n",
    "        predictedRDD: predicted ratings for each movie and each user where each entry is in the form\n",
    "                      (UserID, MovieID, Rating)\n",
    "        actualRDD: actual ratings where each entry is in the form (UserID, MovieID, Rating)\n",
    "    Returns:\n",
    "        RSME (float): computed RSME value\n",
    "    \"\"\"\n",
    "    # Transform predictedRDD into the tuples of the form ((UserID, MovieID), Rating)\n",
    "    predictedReformattedRDD = predictedRDD.map(lambda (x,y,z) : ((x,y),z))\n",
    "\n",
    "    # Transform actualRDD into the tuples of the form ((UserID, MovieID), Rating)\n",
    "    actualReformattedRDD = actualRDD.map(lambda (x,y,z) : ((x,y),z))\n",
    "\n",
    "    # Compute the squared error for each matching entry (i.e., the same (User ID, Movie ID) in each\n",
    "    # RDD) in the reformatted RDDs using RDD transformtions - do not use collect()\n",
    "    squaredErrorsRDD = (predictedReformattedRDD\n",
    "                        .join(actualReformattedRDD)\n",
    "                        .map(lambda ((x,y),(a,b)):((x,y),math.pow(a-b,2)) )\n",
    "                       )\n",
    "\n",
    "    # Compute the total squared error - do not use collect()\n",
    "    #totalError = squaredErrorsRDD.reduce(lambda (a,b),(c,d) : b+d)\n",
    "    totalError = squaredErrorsRDD.map(lambda ((x,y),z) : z).sum()\n",
    "\n",
    "    # Count the number of entries for which you computed the total squared error\n",
    "    numRatings = squaredErrorsRDD.count()\n",
    "\n",
    "    # Using the total squared error and the number of entries, compute the RSME\n",
    "    return math.sqrt(totalError/numRatings)\n",
    "\n",
    "\n",
    "# sc.parallelize turns a Python list into a Spark RDD.\n",
    "testPredicted = sc.parallelize([\n",
    "    (1, 1, 5),\n",
    "    (1, 2, 3),\n",
    "    (1, 3, 4),\n",
    "    (2, 1, 3),\n",
    "    (2, 2, 2),\n",
    "    (2, 3, 4)])\n",
    "testActual = sc.parallelize([\n",
    "     (1, 2, 3),\n",
    "     (1, 3, 5),\n",
    "     (2, 1, 5),\n",
    "     (2, 2, 1)])\n",
    "testPredicted2 = sc.parallelize([\n",
    "     (2, 2, 5),\n",
    "     (1, 2, 5)])\n",
    "testError = computeError(testPredicted, testActual)\n",
    "print 'Error for test dataset (should be 1.22474487139): %s' % testError\n",
    "\n",
    "testError2 = computeError(testPredicted2, testActual)\n",
    "print 'Error for test dataset2 (should be 3.16227766017): %s' % testError2\n",
    "\n",
    "testError3 = computeError(testActual, testActual)\n",
    "print 'Error for testActual dataset (should be 0.0): %s' % testError3"
   ]
  }
 ],
 "metadata": {
  "kernelspec": {
   "display_name": "Python 2",
   "language": "python",
   "name": "python2"
  },
  "language_info": {
   "codemirror_mode": {
    "name": "ipython",
    "version": 2
   },
   "file_extension": ".py",
   "mimetype": "text/x-python",
   "name": "python",
   "nbconvert_exporter": "python",
   "pygments_lexer": "ipython2",
   "version": "2.7.5"
  }
 },
 "nbformat": 4,
 "nbformat_minor": 0
}
