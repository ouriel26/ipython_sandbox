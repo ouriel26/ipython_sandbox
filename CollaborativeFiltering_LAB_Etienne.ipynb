{
 "cells": [
  {
   "cell_type": "code",
   "execution_count": 5,
   "metadata": {
    "collapsed": false
   },
   "outputs": [],
   "source": [
    "sc.stop()\n",
    "from pyspark import SparkContext \n",
    "sc = SparkContext()\n"
   ]
  },
  {
   "cell_type": "code",
   "execution_count": 1,
   "metadata": {
    "collapsed": false
   },
   "outputs": [],
   "source": [
    "numPartitions = 6\n",
    "baseDir = os.path.join('hdfs://ns372208.ip-91-121-199.eu/extract')\n",
    "TwoMonthFilename = os.path.join(baseDir, 'extract08-08_10-08.tsv')\n",
    "\n",
    "rawRatings = sc.textFile(TwoMonthFilename).repartition(numPartitions)"
   ]
  },
  {
   "cell_type": "code",
   "execution_count": 2,
   "metadata": {
    "collapsed": false
   },
   "outputs": [],
   "source": [
    "logs = rawRatings.map(lambda line: line.split('\\t'))"
   ]
  },
  {
   "cell_type": "code",
   "execution_count": 3,
   "metadata": {
    "collapsed": false
   },
   "outputs": [
    {
     "data": {
      "text/plain": [
       "[(286473,\n",
       "  u'55efd8690cf2bf3f9affb188',\n",
       "  u'Wed Sep 09 2015 08:57:51 GMT+0200 (CEST)',\n",
       "  u'11369',\n",
       "  u'10',\n",
       "  u'access offer page',\n",
       "  309)]"
      ]
     },
     "execution_count": 3,
     "metadata": {},
     "output_type": "execute_result"
    }
   ],
   "source": [
    "ProductList = (logs\n",
    "               .map(lambda x:(x[6],1))\n",
    "               .reduceByKey(lambda x,y : x+y)\n",
    "               .keys()\n",
    "               .collect()\n",
    "               )\n",
    "\n",
    "\n",
    "products_ints = dict()\n",
    "ints_products = dict()\n",
    "\n",
    "# iterate over all products labelled and mapping with a int rather \n",
    "i = 1\n",
    "for product in ProductList:\n",
    "    products_ints[product] = i\n",
    "    ints_products[i] = product   \n",
    "    i = i + 1\n",
    "\n",
    "\n",
    "UserList =  (logs\n",
    "             .map(lambda x:(x[0],1))\n",
    "             .reduceByKey(lambda x,y : x+y)\n",
    "             .keys()\n",
    "             .collect()\n",
    "            )\n",
    "\n",
    "users_ints = dict()\n",
    "ints_users = dict()\n",
    "\n",
    "# iterate over all user hexa id and mapping with a int rather\n",
    "i = 1\n",
    "for user in UserList:\n",
    "    users_ints[user] = i\n",
    "    ints_users[i] = user   \n",
    "    i = i + 1\n",
    "\n",
    "logs = logs.map(lambda x:(users_ints[x[0]],x[1],x[2],x[3],x[4],x[5], products_ints[x[6]])).cache()\n",
    "logs.take(1)"
   ]
  },
  {
   "cell_type": "markdown",
   "metadata": {},
   "source": [
    "# <span style=\"color:red\">SEPARATION LOGS RASSEMBLES PAR TYPE</span> #"
   ]
  },
  {
   "cell_type": "code",
   "execution_count": 4,
   "metadata": {
    "collapsed": false
   },
   "outputs": [
    {
     "name": "stdout",
     "output_type": "stream",
     "text": [
      "[(636015, u'55eda90c0cf26fa8c8c3190a', u'Mon Sep 07 2015 17:12:42 GMT+0200 (CEST)', u'0', u'3', u'add to cart', 2328), (157763, u'55fd19180cf284360867357c', u'Sat Sep 19 2015 10:14:25 GMT+0200 (CEST)', u'0', u'3', u'add to cart', 11), (356951, u'55fd19180cf2f3ddc6fb6718', u'Sat Sep 19 2015 10:15:10 GMT+0200 (CEST)', u'0', u'3', u'add to cart', 1893)]\n",
      "[(286473, u'55efd8690cf2bf3f9affb188', u'Wed Sep 09 2015 08:57:51 GMT+0200 (CEST)', u'11369', u'10', u'access offer page', 309), (436759, u'5605159c0cf229cd083a9a14', u'Fri Sep 25 2015 11:36:28 GMT+0200 (CEST)', u'11815', u'10', u'access offer page', 553), (610442, u'55fd19a50cf2f3ddc6fb67e7', u'Sat Sep 19 2015 10:15:50 GMT+0200 (CEST)', u'70495', u'10', u'access offer page', 1383)]\n",
      "[(46567, u'sessionId', u'minEventDateTime', u'duration', u'userActionId', u'userActionLabel', 1315)]\n"
     ]
    }
   ],
   "source": [
    "\n",
    "cartLogs = (logs \n",
    "            .filter(lambda x : x[5] in ('remove from cart','add to cart'))\n",
    "           )\n",
    "accessOfferLogs = (logs \n",
    "            .filter(lambda x : x[5] in ('access offer page'))\n",
    "            .filter(lambda x : x[3] != '0')\n",
    "           )\n",
    "oddLogs = (logs \n",
    "            .filter(lambda x : x[5] in ('userActionLabel'))\n",
    "           )\n",
    "\n",
    "print cartLogs.take(3)\n",
    "print accessOfferLogs.take(3)\n",
    "print oddLogs.take(3)"
   ]
  },
  {
   "cell_type": "code",
   "execution_count": null,
   "metadata": {
    "collapsed": true
   },
   "outputs": [],
   "source": []
  },
  {
   "cell_type": "markdown",
   "metadata": {},
   "source": [
    "# <span style=\"color:red\"> SUPRESSION DES ACCESS LOGS UNIQUES PAR USER </span>#\n",
    "### Le collaborative filtering algorithm n'est pas capable de prédire des ratings à froid ###\n",
    "#### (Préférer plutôt un modele baseline pour le cold start ou pour les users non identifiés) ####"
   ]
  },
  {
   "cell_type": "code",
   "execution_count": null,
   "metadata": {
    "collapsed": false
   },
   "outputs": [],
   "source": [
    "onlyOneAccessOfferLogUserList = (accessOfferLogs\n",
    "                                 .map(lambda x : ((x[0],x[6]),1))\n",
    "                                 .reduceByKey(lambda x,y : x+y)\n",
    "                                 .map(lambda ((x,y),z): (x,1))\n",
    "                                 .reduceByKey(lambda x,y : x+y)\n",
    "                                 .filter(lambda (x,y) : y==1)\n",
    "                                 .map(lambda (x,y): x)\n",
    "                                 .collect()\n",
    "                                 )\n",
    "print len(onlyOneAccessOfferLogUserList)\n",
    "accessOfferLogsNonFiltered = accessOfferLogs\n",
    "print accessOfferLogsNonFiltered.count()\n",
    "# The list could be huge, so we broadcast it through the cluster \n",
    "# Other optimisation clue : Translate User Id into integers ..... \n",
    "\n"
   ]
  },
  {
   "cell_type": "code",
   "execution_count": 6,
   "metadata": {
    "collapsed": false
   },
   "outputs": [
    {
     "name": "stdout",
     "output_type": "stream",
     "text": [
      "252408\n"
     ]
    }
   ],
   "source": [
    "sharedList = sc.broadcast(onlyOneAccessOfferLogUserList)\n",
    "\n",
    "accessOfferLogs = accessOfferLogs.filter(lambda x : x[0] not in (sharedList.value) )\n",
    "print accessOfferLogs.count()"
   ]
  },
  {
   "cell_type": "code",
   "execution_count": 7,
   "metadata": {
    "collapsed": true
   },
   "outputs": [],
   "source": [
    "accessOfferLogs.saveAsTextFile('hdfs://ns372208.ip-91-121-199.eu/extract/extract08-08_10-08_onlyAccessOfferLogsFILTERED.tsv')"
   ]
  },
  {
   "cell_type": "code",
   "execution_count": 16,
   "metadata": {
    "collapsed": false
   },
   "outputs": [
    {
     "name": "stdout",
     "output_type": "stream",
     "text": [
      "[(236496, u'55fd19720cf202afa3113d4c', u'Sat Sep 19 2015 10:17:18 GMT+0200 (CEST)', u'4638', u'10', u'access offer page', 731), (192655, u'55efd81e0cf2984be565e9aa', u'Wed Sep 09 2015 08:56:30 GMT+0200 (CEST)', u'15884', u'10', u'access offer page', 2972), (607279, u'55fd18fa0cf2ef6bb4d26756', u'Sat Sep 19 2015 10:36:07 GMT+0200 (CEST)', u'3112', u'10', u'access offer page', 1536), (88987, u'55fd181d0cf202afa3113bbd', u'Sat Sep 19 2015 10:09:01 GMT+0200 (CEST)', u'8615', u'10', u'access offer page', 3236), (377423, u'55efd6af0cf2984be565e828', u'Wed Sep 09 2015 08:58:36 GMT+0200 (CEST)', u'37767', u'10', u'access offer page', 1974)]\n"
     ]
    }
   ],
   "source": [
    "from ast import literal_eval as make_tuple\n",
    "baseDir = os.path.join('hdfs://ns372208.ip-91-121-199.eu/extract')\n",
    "TwoMonthFilename = os.path.join(baseDir, 'extract08-08_10-08_onlyAccessOfferLogsFILTERED.tsv')\n",
    "accessOfferLogs = sc.textFile(TwoMonthFilename).repartition(4)\n",
    "accessOfferLogs = accessOfferLogs.map(lambda line: make_tuple(line))\n",
    "print accessOfferLogs.take(5)"
   ]
  },
  {
   "cell_type": "code",
   "execution_count": 17,
   "metadata": {
    "collapsed": false
   },
   "outputs": [
    {
     "name": "stdout",
     "output_type": "stream",
     "text": [
      "0\n",
      "252408\n"
     ]
    }
   ],
   "source": [
    "print accessOfferLogs.filter(lambda x : x[3]== '0').count()\n",
    "print accessOfferLogs.count()"
   ]
  },
  {
   "cell_type": "markdown",
   "metadata": {},
   "source": [
    "## Gestion des \"NaN values\" ## "
   ]
  },
  {
   "cell_type": "code",
   "execution_count": 18,
   "metadata": {
    "collapsed": false
   },
   "outputs": [],
   "source": [
    "def returnMeANumber(string):\n",
    "    if string.isdigit():\n",
    "        return int(string)\n",
    "    else:\n",
    "        return 0\n",
    "    \n",
    "  "
   ]
  },
  {
   "cell_type": "markdown",
   "metadata": {},
   "source": [
    "### Use cases ###\n",
    "* #### 'access offer page' / duration : 0  ===> Pas d'action spécifiques donc interet très faible ####\n",
    "* #### 'add to cart' / duration = 0 toujours ===> Interet fort ####\n"
   ]
  },
  {
   "cell_type": "code",
   "execution_count": 19,
   "metadata": {
    "collapsed": false
   },
   "outputs": [
    {
     "name": "stdout",
     "output_type": "stream",
     "text": [
      "Sat Sep 19 2015 10:15:10\n",
      "True\n"
     ]
    }
   ],
   "source": [
    "############ TIME & DATE Labo ##########################################\n",
    "import time\n",
    "x = 'Sat Sep 19 2015 10:15:10 GMT+0200 (CEST)'\n",
    "y = 'Sat Sep 19 2015 10:15:09 GMT+0200 (CEST)'\n",
    "print x[:-16]\n",
    "print time.strptime(x[:-16],\"%a %b %d %Y %H:%M:%S\") > time.strptime(y[:-16],\"%a %b %d %Y %H:%M:%S\")"
   ]
  },
  {
   "cell_type": "code",
   "execution_count": 20,
   "metadata": {
    "collapsed": true
   },
   "outputs": [],
   "source": [
    "import time\n",
    "def agregOneProductCartActions(x,y):\n",
    "    print x\n",
    "    xTimeString = x[0]\n",
    "    yTimeString = y[0]\n",
    "    xTime = time.strptime(xTimeString[:-16], \"%a %b %d %Y %H:%M:%S\")\n",
    "    yTime = time.strptime(yTimeString[:-16], \"%a %b %d %Y %H:%M:%S\")\n",
    "    returnTime = xTimeString if xTime > yTime else yTimeString\n",
    "    return (returnTime, 0, x[2]+y[2])\n",
    "\n",
    "def agregOneProductAccessOfferActions(x,y):\n",
    "    print x\n",
    "    xTimeString = x[0]\n",
    "    yTimeString = y[0]\n",
    "    xTime = time.strptime(xTimeString[:-16], \"%a %b %d %Y %H:%M:%S\")\n",
    "    yTime = time.strptime(yTimeString[:-16], \"%a %b %d %Y %H:%M:%S\")\n",
    "    returnTime = xTimeString if xTime > yTime else yTimeString\n",
    "    return (returnTime, x[1]+y[1])\n",
    "    "
   ]
  },
  {
   "cell_type": "code",
   "execution_count": 21,
   "metadata": {
    "collapsed": false
   },
   "outputs": [
    {
     "data": {
      "text/plain": [
       "[((464638, 1580), (u'Wed Aug 19 2015 18:29:07 GMT+0200 (CEST)', u'0', 1)),\n",
       " ((147365, 639), (u'Mon Aug 24 2015 17:26:08 GMT+0200 (CEST)', u'0', 1)),\n",
       " ((324484, 458), (u'Fri Oct 09 2015 00:26:02 GMT+0200 (CEST)', u'0', 1)),\n",
       " ((632750, 484), (u'Sat Oct 03 2015 11:29:31 GMT+0200 (CEST)', u'0', 1)),\n",
       " ((227689, 2339), (u'Tue Sep 01 2015 15:10:08 GMT+0200 (CEST)', u'0', 1))]"
      ]
     },
     "execution_count": 21,
     "metadata": {},
     "output_type": "execute_result"
    }
   ],
   "source": [
    "aggregCartLogs = (cartLogs\n",
    "                  .map(lambda (a,b,c,d,e,f,g) : ((a,g),(c,d,1)) if f == 'add to cart' else ((a,g),(c,d,-1)))\n",
    "                  .reduceByKey(agregOneProductCartActions)\n",
    "                  )\n",
    "aggregCartLogs.take(5)"
   ]
  },
  {
   "cell_type": "markdown",
   "metadata": {},
   "source": [
    "## Anomalies pour les actions de type \"CART\" ##\n",
    "#### logiquement, après agréggation des 'add' (+1) et 'remove' (-1), l'on ne devrait PAS avoir de valeurs négatives dans le décompte pour le couple (utilisateur, produit). ####\n",
    "##### Hypothéses : #####\n",
    "* ##### Certaines valeurs négatives peuvent être expliquées par l'absence des précédentes 'add' actions puisque loggé juste avant la begin date du fichier de logs considéré  ###### "
   ]
  },
  {
   "cell_type": "code",
   "execution_count": 22,
   "metadata": {
    "collapsed": false
   },
   "outputs": [
    {
     "name": "stdout",
     "output_type": "stream",
     "text": [
      "defaultdict(<type 'int'>, {0: 9376, 1: 67808, 2: 9025, 3: 1792, 4: 533, 5: 180, 6: 94, 7: 65, 8: 28, 9: 29, 10: 18, 11: 15, 12: 13, 13: 10, 14: 4, 15: 6, 16: 4, 17: 2, 18: 2, 19: 1, 20: 2, 21: 2, 22: 1, 23: 2, 26: 2, 29: 1, 30: 3, 37: 1, 38: 1, 40: 2, 42: 1, 48: 1, 49: 1, 60: 1, 80: 1, -25: 1, -17: 1, -15: 1, -1: 564, -10: 1, -7: 3, -6: 2, -5: 13, -4: 20, -3: 51, -2: 160})\n"
     ]
    }
   ],
   "source": [
    "\n",
    "print aggregCartLogs.map(lambda x : x[1][2]).countByValue()"
   ]
  },
  {
   "cell_type": "code",
   "execution_count": 23,
   "metadata": {
    "collapsed": false
   },
   "outputs": [
    {
     "data": {
      "text/plain": [
       "[((464638, 1580), 4.0)]"
      ]
     },
     "execution_count": 23,
     "metadata": {},
     "output_type": "execute_result"
    }
   ],
   "source": [
    "ReadyCartLogs = aggregCartLogs.map(lambda ((k1,k2),(x,y,z)) : ((k1,k2),4.0) if z > 0 else ((k1,k2),2.0) ).cache()\n",
    "\n",
    "ReadyCartLogs.take(1)"
   ]
  },
  {
   "cell_type": "code",
   "execution_count": 24,
   "metadata": {
    "collapsed": false,
    "scrolled": true
   },
   "outputs": [
    {
     "name": "stdout",
     "output_type": "stream",
     "text": [
      "252408\n"
     ]
    },
    {
     "data": {
      "text/plain": [
       "[((464638, 1580), (u'Wed Aug 19 2015 18:27:55 GMT+0200 (CEST)', 71511)),\n",
       " ((475240, 2774), (u'Wed Oct 07 2015 09:11:38 GMT+0200 (CEST)', 4103)),\n",
       " ((37292, 1134), (u'Thu Aug 27 2015 13:25:26 GMT+0200 (CEST)', 4688))]"
      ]
     },
     "execution_count": 24,
     "metadata": {},
     "output_type": "execute_result"
    }
   ],
   "source": [
    "print accessOfferLogs.count()\n",
    "aggregAccessOfferLogs = (accessOfferLogs\n",
    "                  .map(lambda (a,b,c,d,e,f,g) : ((a,g),(c,returnMeANumber(d))))\n",
    "                  .reduceByKey(agregOneProductAccessOfferActions)\n",
    "                  )\n",
    "\n",
    "aggregAccessOfferLogs.take(3)\n",
    "\n"
   ]
  },
  {
   "cell_type": "markdown",
   "metadata": {},
   "source": [
    "   ## <span style=\"color:red\">Managing extreme values : assigning a cap value </span>##"
   ]
  },
  {
   "cell_type": "code",
   "execution_count": 25,
   "metadata": {
    "collapsed": false
   },
   "outputs": [
    {
     "name": "stdout",
     "output_type": "stream",
     "text": [
      "5251\n"
     ]
    }
   ],
   "source": [
    "print aggregAccessOfferLogs.filter(lambda x : int(x[1][1])>150000).count() \n",
    "logs_in_ms = aggregAccessOfferLogs.filter(lambda x : int(x[1][1])>100000).map(lambda x : int(x[1][1])).collect()"
   ]
  },
  {
   "cell_type": "code",
   "execution_count": 17,
   "metadata": {
    "collapsed": false
   },
   "outputs": [
    {
     "ename": "NameError",
     "evalue": "name 'logs_in_ms' is not defined",
     "output_type": "error",
     "traceback": [
      "\u001b[1;31m---------------------------------------------------------------------------\u001b[0m",
      "\u001b[1;31mNameError\u001b[0m                                 Traceback (most recent call last)",
      "\u001b[1;32m<ipython-input-17-eb9da60f2e4d>\u001b[0m in \u001b[0;36m<module>\u001b[1;34m()\u001b[0m\n\u001b[0;32m      1\u001b[0m \u001b[1;32mimport\u001b[0m \u001b[0mnumpy\u001b[0m \u001b[1;32mas\u001b[0m \u001b[0mnp\u001b[0m\u001b[1;33m\u001b[0m\u001b[0m\n\u001b[1;32m----> 2\u001b[1;33m \u001b[1;32mprint\u001b[0m \u001b[1;34m\"Min : %d\"\u001b[0m \u001b[1;33m%\u001b[0m\u001b[1;33m(\u001b[0m\u001b[0mmin\u001b[0m\u001b[1;33m(\u001b[0m\u001b[0mlogs_in_ms\u001b[0m\u001b[1;33m)\u001b[0m\u001b[1;33m)\u001b[0m\u001b[1;33m\u001b[0m\u001b[0m\n\u001b[0m\u001b[0;32m      3\u001b[0m \u001b[1;32mprint\u001b[0m \u001b[1;34m\"Max : %d\"\u001b[0m \u001b[1;33m%\u001b[0m\u001b[1;33m(\u001b[0m\u001b[0mmax\u001b[0m\u001b[1;33m(\u001b[0m\u001b[0mlogs_in_ms\u001b[0m\u001b[1;33m)\u001b[0m\u001b[1;33m)\u001b[0m\u001b[1;33m\u001b[0m\u001b[0m\n\u001b[0;32m      4\u001b[0m \u001b[1;33m\u001b[0m\u001b[0m\n\u001b[0;32m      5\u001b[0m \u001b[1;33m\u001b[0m\u001b[0m\n",
      "\u001b[1;31mNameError\u001b[0m: name 'logs_in_ms' is not defined"
     ]
    }
   ],
   "source": [
    "import numpy as np \n",
    "print \"Min : %d\" %(min(logs_in_ms))\n",
    "print \"Max : %d\" %(max(logs_in_ms))\n",
    "\n",
    "\n",
    "plt.hist(logs_in_ms,range=[90000, 500000])\n",
    "plt.title(\"Logs in ms\")\n",
    "plt.xlabel(\"Value\")\n",
    "plt.ylabel(\"Frequency\")\n",
    "plt.show()"
   ]
  },
  {
   "cell_type": "markdown",
   "metadata": {},
   "source": [
    "#### Assigning a cap calue of 150.000 for all above extreme values ####"
   ]
  },
  {
   "cell_type": "code",
   "execution_count": 26,
   "metadata": {
    "collapsed": false
   },
   "outputs": [],
   "source": [
    "extremeCappedAggregAccessOfferLogs = aggregAccessOfferLogs.map(lambda x : ((x[0][0],x[0][1]),(x[1][0],100000)) if int(x[1][1])>100000 else x)"
   ]
  },
  {
   "cell_type": "markdown",
   "metadata": {},
   "source": [
    "## Normalisation ##"
   ]
  },
  {
   "cell_type": "code",
   "execution_count": 27,
   "metadata": {
    "collapsed": false
   },
   "outputs": [
    {
     "name": "stdout",
     "output_type": "stream",
     "text": [
      "28905.7249373\n",
      "27328.8319855\n"
     ]
    }
   ],
   "source": [
    "#################### Prends beaucoup de temps ######################\n",
    "mean = extremeCappedAggregAccessOfferLogs.map(lambda x : int(x[1][1])).mean()\n",
    "std = extremeCappedAggregAccessOfferLogs.map(lambda x : int(x[1][1])).stdev()\n",
    "print mean\n",
    "print std"
   ]
  },
  {
   "cell_type": "code",
   "execution_count": 19,
   "metadata": {
    "collapsed": true
   },
   "outputs": [],
   "source": [
    "mean = 16796.2444516\n",
    "std = 28172.0146034"
   ]
  },
  {
   "cell_type": "code",
   "execution_count": 28,
   "metadata": {
    "collapsed": false
   },
   "outputs": [
    {
     "name": "stdout",
     "output_type": "stream",
     "text": [
      "18.75\n"
     ]
    }
   ],
   "source": [
    "\n",
    "def round_to(n, precision):\n",
    "    correction = 0.5 if n >= 0 else -0.5\n",
    "    return int( n/precision+correction ) * precision\n",
    "\n",
    "def round_to_05(n):\n",
    "    return round_to(n, 0.05)\n",
    "\n",
    "print round_to_05(18.75698)"
   ]
  },
  {
   "cell_type": "code",
   "execution_count": 29,
   "metadata": {
    "collapsed": false
   },
   "outputs": [
    {
     "data": {
      "text/plain": [
       "[((350808, 1374), 2.1),\n",
       " ((475240, 2774), -0.9),\n",
       " ((37292, 1134), -0.9),\n",
       " ((464638, 1580), 1.55),\n",
       " ((229222, 2108), -0.65)]"
      ]
     },
     "execution_count": 29,
     "metadata": {},
     "output_type": "execute_result"
    }
   ],
   "source": [
    "ReadyAccessOfferLogs = (extremeCappedAggregAccessOfferLogs\n",
    "                  .map(lambda ((k1,k2),(x,y)) : ((k1,k2), round_to_05((y-mean)/std) ))\n",
    "                  )\n",
    "ReadyAccessOfferLogs.take(5)"
   ]
  },
  {
   "cell_type": "code",
   "execution_count": 30,
   "metadata": {
    "collapsed": false
   },
   "outputs": [
    {
     "name": "stdout",
     "output_type": "stream",
     "text": [
      "[((438668, 1134), -0.75), ((350808, 1374), 2.1), ((475240, 2774), -0.9), ((37292, 1134), -0.9), ((464638, 1580), 1.55)]\n",
      "[((464638, 1580), 4.0), ((147365, 639), 4.0), ((324484, 458), 4.0), ((632750, 484), 4.0), ((227689, 2339), 4.0)]\n"
     ]
    }
   ],
   "source": [
    "print ReadyAccessOfferLogs.take(5)\n",
    "print ReadyCartLogs.take(5)"
   ]
  },
  {
   "cell_type": "code",
   "execution_count": 31,
   "metadata": {
    "collapsed": false
   },
   "outputs": [
    {
     "name": "stdout",
     "output_type": "stream",
     "text": [
      "[(324484, 458, 4.0)]\n"
     ]
    }
   ],
   "source": [
    "ReadyAllLogs = (ReadyAccessOfferLogs\n",
    "                .union(ReadyCartLogs)\n",
    "                .reduceByKey(lambda x,y : x if x > y else y)\n",
    "                .map(lambda ((x,y),z): (x,y,z))\n",
    "                .cache()\n",
    "                )\n",
    "print ReadyAllLogs.take(1)"
   ]
  },
  {
   "cell_type": "code",
   "execution_count": 32,
   "metadata": {
    "collapsed": true
   },
   "outputs": [],
   "source": [
    "\n",
    "trainingRDD, validationRDD, testRDD = ReadyAllLogs.randomSplit([6, 2, 2], seed=0L) "
   ]
  },
  {
   "cell_type": "markdown",
   "metadata": {},
   "source": [
    "# BASELINE #"
   ]
  },
  {
   "cell_type": "code",
   "execution_count": 33,
   "metadata": {
    "collapsed": false
   },
   "outputs": [],
   "source": [
    "def Build_Baseline_RDD(refRDD, testRDD):\n",
    "        mu = refRDD.map(lambda x : x[2]).mean()\n",
    "        print mu\n",
    "        userAverageRatings = (refRDD\n",
    "                              .map(lambda x : (x[0],(x[2],1)))\n",
    "                              .reduceByKey(lambda x,y : (x[0]+y[0], x[1]+y[1]))\n",
    "                              .map(lambda (x,(y,z)): (x,(y-mu)/z))\n",
    "                              .collect()\n",
    "                              )\n",
    "\n",
    "        productAverageRatings = (refRDD\n",
    "                              .map(lambda x : (x[1],(x[2],1)))\n",
    "                              .reduceByKey(lambda x,y : (x[0]+y[0], x[1]+y[1]))\n",
    "                              .map(lambda (x,(y,z)): (x,(y-mu)/z))\n",
    "                              .collect()\n",
    "                              )\n",
    "       \n",
    "        userList = dict(userAverageRatings)\n",
    "        productList = dict(productAverageRatings)\n",
    "        \n",
    "        baselineRDD = testRDD.map(lambda (x,y) : (x,y, mu + userList[x]+productList[y]))\n",
    "        \n",
    "        return baselineRDD"
   ]
  },
  {
   "cell_type": "code",
   "execution_count": 34,
   "metadata": {
    "collapsed": false
   },
   "outputs": [
    {
     "name": "stdout",
     "output_type": "stream",
     "text": [
      "Error for test dataset (should be 1.22474487139): 1.22474487139\n",
      "Error for test dataset2 (should be 3.16227766017): 3.16227766017\n",
      "Error for testActual dataset (should be 0.0): 0.0\n"
     ]
    }
   ],
   "source": [
    "# TODO: Replace <FILL IN> with appropriate code\n",
    "import math\n",
    "def auditError(predictedRDD, actualRDD):\n",
    "    \n",
    "    # Transform predictedRDD into the tuples of the form ((UserID, MovieID), Rating)\n",
    "    predictedReformattedRDD = predictedRDD.map(lambda (x,y,z) : ((x,y),z))\n",
    "\n",
    "    # Transform actualRDD into the tuples of the form ((UserID, MovieID), Rating)\n",
    "    actualReformattedRDD = actualRDD.map(lambda (x,y,z) : ((x,y),z))\n",
    "    \n",
    "    \n",
    "    \n",
    "    \n",
    "def computeError(predictedRDD, actualRDD):\n",
    "    \"\"\" Compute the root mean squared error between predicted and actual\n",
    "    Args:\n",
    "        predictedRDD: predicted ratings for each movie and each user where each entry is in the form\n",
    "                      (UserID, MovieID, Rating)\n",
    "        actualRDD: actual ratings where each entry is in the form (UserID, MovieID, Rating)\n",
    "    Returns:\n",
    "        RSME (float): computed RSME value\n",
    "    \"\"\"\n",
    "    # Transform predictedRDD into the tuples of the form ((UserID, MovieID), Rating)\n",
    "    predictedReformattedRDD = predictedRDD.map(lambda (x,y,z) : ((x,y),z))\n",
    "\n",
    "    # Transform actualRDD into the tuples of the form ((UserID, MovieID), Rating)\n",
    "    actualReformattedRDD = actualRDD.map(lambda (x,y,z) : ((x,y),z))\n",
    "\n",
    "    # Compute the squared error for each matching entry (i.e., the same (User ID, Movie ID) in each\n",
    "    # RDD) in the reformatted RDDs using RDD transformtions - do not use collect()\n",
    "    squaredErrorsRDD = (predictedReformattedRDD\n",
    "                        .join(actualReformattedRDD)\n",
    "                        .map(lambda ((x,y),(a,b)):((x,y),math.pow(a-b,2)) )\n",
    "                       )\n",
    "\n",
    "    # Compute the total squared error - do not use collect()\n",
    "    #totalError = squaredErrorsRDD.reduce(lambda (a,b),(c,d) : b+d)\n",
    "    totalError = squaredErrorsRDD.map(lambda ((x,y),z) : z).sum()\n",
    "\n",
    "    # Count the number of entries for which you computed the total squared error\n",
    "    numRatings = squaredErrorsRDD.count()\n",
    "\n",
    "    # Using the total squared error and the number of entries, compute the RSME\n",
    "    return math.sqrt(totalError/numRatings)\n",
    "\n",
    "\n",
    "# sc.parallelize turns a Python list into a Spark RDD.\n",
    "testPredicted = sc.parallelize([\n",
    "    (1, 1, 5),\n",
    "    (1, 2, 3),\n",
    "    (1, 3, 4),\n",
    "    (2, 1, 3),\n",
    "    (2, 2, 2),\n",
    "    (2, 3, 4)])\n",
    "testActual = sc.parallelize([\n",
    "     (1, 2, 3),\n",
    "     (1, 3, 5),\n",
    "     (2, 1, 5),\n",
    "     (2, 2, 1)])\n",
    "testPredicted2 = sc.parallelize([\n",
    "     (2, 2, 5),\n",
    "     (1, 2, 5)])\n",
    "testError = computeError(testPredicted, testActual)\n",
    "print 'Error for test dataset (should be 1.22474487139): %s' % testError\n",
    "\n",
    "testError2 = computeError(testPredicted2, testActual)\n",
    "print 'Error for test dataset2 (should be 3.16227766017): %s' % testError2\n",
    "\n",
    "testError3 = computeError(testActual, testActual)\n",
    "print 'Error for testActual dataset (should be 0.0): %s' % testError3"
   ]
  },
  {
   "cell_type": "code",
   "execution_count": 40,
   "metadata": {
    "collapsed": false
   },
   "outputs": [
    {
     "name": "stdout",
     "output_type": "stream",
     "text": [
      "For rank 24 the RMSE is 1.58160378106\n",
      "For rank 30 the RMSE is 1.58066498074\n",
      "The best model was trained with rank 30\n"
     ]
    }
   ],
   "source": [
    "# TODO: Replace <FILL IN> with appropriate code\n",
    "from pyspark.mllib.recommendation import ALS\n",
    "\n",
    "validationForPredictRDD = validationRDD.map(lambda  (x,y,z): (x,y)).cache()\n",
    "\n",
    "seed = 5L\n",
    "iterations = 30\n",
    "regularizationParameter = 0.1\n",
    "ranks = [ 24, 30]\n",
    "errors = [0, 0]\n",
    "err = 0\n",
    "tolerance = 0.03\n",
    "\n",
    "minError = float('inf')\n",
    "bestRank = -1\n",
    "bestIteration = -1\n",
    "for rank in ranks:\n",
    "    model = ALS.train(trainingRDD, rank, seed=seed, iterations=iterations,\n",
    "                      lambda_=regularizationParameter)\n",
    "    predictedRatingsRDD = model.predictAll(validationForPredictRDD)\n",
    "    error = computeError(predictedRatingsRDD, validationRDD)\n",
    "    errors[err] = error\n",
    "    err += 1\n",
    "    print 'For rank %s the RMSE is %s' % (rank, error)\n",
    "    if error < minError:\n",
    "        minError = error\n",
    "        bestRank = rank\n",
    "\n",
    "print 'The best model was trained with rank %s' % bestRank"
   ]
  },
  {
   "cell_type": "code",
   "execution_count": 57,
   "metadata": {
    "collapsed": false
   },
   "outputs": [],
   "source": [
    "mylist =  validationRDD.map(lambda x : (x[2],1)).reduceByKey(lambda x,y : x+y).collect()"
   ]
  },
  {
   "cell_type": "markdown",
   "metadata": {},
   "source": [
    "## Confront with baseline figures ##"
   ]
  },
  {
   "cell_type": "code",
   "execution_count": 37,
   "metadata": {
    "collapsed": false
   },
   "outputs": [
    {
     "name": "stdout",
     "output_type": "stream",
     "text": [
      "1.01855229746\n",
      "[(353082, 2556, 1.8601051605358498), (637849, 711, 2.927472511782236), (528077, 535, 5.3503788265234205), (640384, 1134, 3.156431289406482), (23983, 553, 2.7064743014675283), (650986, 1016, 3.1257688809519983), (183742, 1374, 1.8031472422104884), (149648, 858, 5.734391367992785), (145345, 503, 1.4132085992738814), (113249, 2203, -0.04202780773096539), (437707, 1993, 1.2859504722760557), (669636, 908, 5.662316953342696), (500891, 2391, 1.8844960901555963), (566319, 375, 2.1328961832780666), (458304, 1670, 2.4434866266256936), (563268, 3170, 0.5257718755806406), (149250, 580, 1.2784901384512635), (636036, 2632, 3.7431958914459282), (530768, 752, 1.0901962070848203), (212872, 2756, 0.13941248175422438)]\n"
     ]
    }
   ],
   "source": [
    "baselineValidationSetRDD = Build_Baseline_RDD(ReadyAllLogs, validationForPredictRDD)\n",
    "print baselineValidationSetRDD.take(20)"
   ]
  },
  {
   "cell_type": "code",
   "execution_count": 38,
   "metadata": {
    "collapsed": false
   },
   "outputs": [
    {
     "name": "stdout",
     "output_type": "stream",
     "text": [
      "1.92426438098\n"
     ]
    }
   ],
   "source": [
    "testRMSE = computeError(validationRDD, baselineValidationSetRDD)\n",
    "print testRMSE"
   ]
  },
  {
   "cell_type": "code",
   "execution_count": 58,
   "metadata": {
    "collapsed": false
   },
   "outputs": [],
   "source": [
    "import csv\n",
    "\n",
    "with open(\"toto.csv\", 'wb') as f :\n",
    "    wr = csv.writer(f)\n",
    "    wr.writerows(mylist)\n",
    "\n"
   ]
  },
  {
   "cell_type": "code",
   "execution_count": 53,
   "metadata": {
    "collapsed": true
   },
   "outputs": [],
   "source": [
    "#### Lister les profiles utilisateurs par nombre de produits différents consultés ############\n",
    "UserActionProfiles = (ReadyAllLogs\n",
    "                     .map(lambda(x,y,z):(x,1))\n",
    "                     .reduceByKey(lambda x,y : x+y)\n",
    "                     .map(lambda (x,y):(y,1))\n",
    "                     .reduceByKey(lambda x,y : x+y)\n",
    "                     .collect()\n",
    "                     )"
   ]
  },
  {
   "cell_type": "code",
   "execution_count": 54,
   "metadata": {
    "collapsed": false
   },
   "outputs": [
    {
     "name": "stdout",
     "output_type": "stream",
     "text": [
      "[(24, 3), (12, 131), (1, 550495), (37, 1), (13, 99), (25, 4), (2, 83281), (26, 4), (14, 64), (39, 2), (3, 27223), (15, 56), (16, 25), (28, 1), (4, 12314), (40, 1), (17, 24), (5, 5987), (41, 1), (18, 16), (54, 1), (30, 3), (6, 3318), (43, 1), (19, 19), (7, 1671), (8, 946), (32, 2), (20, 4), (9, 565), (21, 8), (10, 379), (22, 9), (47, 1), (11, 216), (23, 6)]\n"
     ]
    }
   ],
   "source": [
    "print UserActionProfiles"
   ]
  },
  {
   "cell_type": "code",
   "execution_count": 60,
   "metadata": {
    "collapsed": false
   },
   "outputs": [
    {
     "name": "stdout",
     "output_type": "stream",
     "text": [
      "[(-0.4, 76351), (-0.35000000000000003, 10684), (-0.30000000000000004, 8545), (-0.25, 7405), (-0.2, 6360), (-0.15000000000000002, 5686), (-0.1, 4896)]\n"
     ]
    }
   ],
   "source": [
    "NotationProfiles = (testRDD\n",
    "                    .map(lambda (x,y,z): (z,1))\n",
    "                    .reduceByKey(lambda x,y : x+y)\n",
    "                    .filter(lambda (x,y):x <= -0.1)\n",
    "                    .takeOrdered(10)\n",
    "\n",
    "                    )\n",
    "print NotationProfiles"
   ]
  },
  {
   "cell_type": "code",
   "execution_count": 62,
   "metadata": {
    "collapsed": false
   },
   "outputs": [
    {
     "data": {
      "image/png": "[encoded data removed]",
      "text/plain": [
       "<matplotlib.figure.Figure at 0x17815f50>"
      ]
     },
     "metadata": {},
     "output_type": "display_data"
    }
   ],
   "source": [
    "import matplotlib\n",
    "import numpy as np\n",
    "import matplotlib.pyplot as plt\n",
    "%matplotlib inline \n",
    "x = np.linspace(0, 3*np.pi, 500)\n",
    "plt.plot(x, np.sin(x**2))\n",
    "plt.title('A simple chirp')\n",
    "plt.show()"
   ]
  },
  {
   "cell_type": "code",
   "execution_count": 63,
   "metadata": {
    "collapsed": false
   },
   "outputs": [
    {
     "data": {
      "image/png": "[encoded data removed]",
      "text/plain": [
       "<matplotlib.figure.Figure at 0x177ea690>"
      ]
     },
     "metadata": {},
     "output_type": "display_data"
    }
   ],
   "source": [
    "from numpy.random import normal\n",
    "gaussian_numbers = normal(size=1000)\n",
    "plt.hist(gaussian_numbers)\n",
    "plt.title(\"Gaussian Histogram\")\n",
    "plt.xlabel(\"Value\")\n",
    "plt.ylabel(\"Frequency\")\n",
    "plt.show()"
   ]
  },
  {
   "cell_type": "code",
   "execution_count": null,
   "metadata": {
    "collapsed": true
   },
   "outputs": [],
   "source": [
    "\n",
    "myModel = ALS.train(trainingRDD, 20, seed=seed, iterations=iterations,\n",
    "                      lambda_=regularizationParameter)\n",
    "testForPredictingRDD = testRDD.map(lambda (x,y,z) : (x,y)).cache()\n",
    "predictedTestRDD = myModel.predictAll(testForPredictingRDD)\n",
    "\n",
    "testRMSE = computeError(testRDD, predictedTestRDD)\n",
    "\n",
    "print 'The model had a RMSE on the test set of %s' % testRMSE"
   ]
  }
 ],
 "metadata": {
  "kernelspec": {
   "display_name": "Python 2",
   "language": "python",
   "name": "python2"
  },
  "language_info": {
   "codemirror_mode": {
    "name": "ipython",
    "version": 2
   },
   "file_extension": ".py",
   "mimetype": "text/x-python",
   "name": "python",
   "nbconvert_exporter": "python",
   "pygments_lexer": "ipython2",
   "version": "2.7.5"
  }
 },
 "nbformat": 4,
 "nbformat_minor": 0
}
